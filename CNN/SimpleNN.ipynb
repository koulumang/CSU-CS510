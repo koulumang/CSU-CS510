{
  "nbformat": 4,
  "nbformat_minor": 0,
  "metadata": {
    "colab": {
      "provenance": []
    },
    "kernelspec": {
      "name": "python3",
      "display_name": "Python 3"
    },
    "language_info": {
      "name": "python"
    }
  },
  "cells": [
    {
      "cell_type": "code",
      "execution_count": null,
      "metadata": {
        "colab": {
          "base_uri": "https://localhost:8080/"
        },
        "id": "BUbKKhkwqRya",
        "outputId": "70d58019-543e-4291-a4a1-06a2bb01a9d7"
      },
      "outputs": [
        {
          "output_type": "stream",
          "name": "stdout",
          "text": [
            "Downloading data from https://storage.googleapis.com/tensorflow/tf-keras-datasets/mnist.npz\n",
            "11490434/11490434 [==============================] - 0s 0us/step\n",
            "(60000, 28, 28)\n",
            "(60000,)\n",
            "(10000, 28, 28)\n",
            "(10000,)\n"
          ]
        }
      ],
      "source": [
        "import tensorflow as tf\n",
        "from tensorflow.keras import layers\n",
        "import matplotlib.pyplot as plt\n",
        "\n",
        "mnist= tf.keras.datasets.mnist\n",
        "\n",
        "(train_images, train_labels), (test_images, test_labels) = mnist.load_data()\n",
        "train_images, test_images = train_images/255, test_images/255\n",
        "\n",
        "# for i in range(6):\n",
        "#   plt.subplot(2,3,i+1)\n",
        "#   plt.imshow(train_images[i],cmap='gray')\n",
        "# plt.show()\n",
        "\n",
        "print(train_images.shape)\n",
        "print(train_labels.shape)\n",
        "\n",
        "print(test_images.shape)\n",
        "print(test_labels.shape)"
      ]
    },
    {
      "cell_type": "code",
      "source": [
        "model=tf.keras.models.Sequential()\n",
        "\n",
        "model.add(layers.Flatten(input_shape=(28,28)))\n",
        "model.add(layers.Dense(1000,activation='relu'))\n",
        "model.add(layers.Dense(10))\n",
        "\n",
        "model.summary()"
      ],
      "metadata": {
        "colab": {
          "base_uri": "https://localhost:8080/"
        },
        "id": "XUG6V-SnqeQ6",
        "outputId": "0002ef5c-3c3f-491e-f03b-dc3f9690b017"
      },
      "execution_count": null,
      "outputs": [
        {
          "output_type": "stream",
          "name": "stdout",
          "text": [
            "Model: \"sequential_7\"\n",
            "_________________________________________________________________\n",
            " Layer (type)                Output Shape              Param #   \n",
            "=================================================================\n",
            " flatten_2 (Flatten)         (None, 784)               0         \n",
            "                                                                 \n",
            " dense_4 (Dense)             (None, 1000)              785000    \n",
            "                                                                 \n",
            " dense_5 (Dense)             (None, 10)                10010     \n",
            "                                                                 \n",
            "=================================================================\n",
            "Total params: 795,010\n",
            "Trainable params: 795,010\n",
            "Non-trainable params: 0\n",
            "_________________________________________________________________\n"
          ]
        }
      ]
    },
    {
      "cell_type": "code",
      "source": [
        "from keras import optimizers\n",
        "loss = tf.keras.losses.SparseCategoricalCrossentropy(from_logits=True)\n",
        "optim = tf.keras.optimizers.Adam(learning_rate=0.001)\n",
        "metrics = ['accuracy']\n",
        "epochs=10\n",
        "batchSize=64\n",
        "\n",
        "model.compile(loss=loss,optimizer=optim,metrics=metrics)\n",
        "model.fit(train_images,train_labels,batch_size=batchSize,epochs=epochs,shuffle=True)"
      ],
      "metadata": {
        "colab": {
          "base_uri": "https://localhost:8080/"
        },
        "id": "QJutsRtzqfLy",
        "outputId": "c21c2364-c627-4fbc-9ef0-c27caf74f933"
      },
      "execution_count": null,
      "outputs": [
        {
          "output_type": "stream",
          "name": "stdout",
          "text": [
            "Epoch 1/10\n",
            "938/938 [==============================] - 10s 11ms/step - loss: 0.2038 - accuracy: 0.9392\n",
            "Epoch 2/10\n",
            "938/938 [==============================] - 10s 11ms/step - loss: 0.0794 - accuracy: 0.9757\n",
            "Epoch 3/10\n",
            "938/938 [==============================] - 11s 11ms/step - loss: 0.0518 - accuracy: 0.9840\n",
            "Epoch 4/10\n",
            "938/938 [==============================] - 11s 11ms/step - loss: 0.0337 - accuracy: 0.9891\n",
            "Epoch 5/10\n",
            "938/938 [==============================] - 11s 11ms/step - loss: 0.0243 - accuracy: 0.9922\n",
            "Epoch 6/10\n",
            "938/938 [==============================] - 10s 11ms/step - loss: 0.0186 - accuracy: 0.9941\n",
            "Epoch 7/10\n",
            "938/938 [==============================] - 11s 12ms/step - loss: 0.0142 - accuracy: 0.9952\n",
            "Epoch 8/10\n",
            "938/938 [==============================] - 12s 12ms/step - loss: 0.0132 - accuracy: 0.9957\n",
            "Epoch 9/10\n",
            "938/938 [==============================] - 11s 12ms/step - loss: 0.0111 - accuracy: 0.9963\n",
            "Epoch 10/10\n",
            "938/938 [==============================] - 11s 12ms/step - loss: 0.0109 - accuracy: 0.9966\n"
          ]
        },
        {
          "output_type": "execute_result",
          "data": {
            "text/plain": [
              "<keras.callbacks.History at 0x7f4613c64190>"
            ]
          },
          "metadata": {},
          "execution_count": 14
        }
      ]
    },
    {
      "cell_type": "code",
      "source": [
        "model.evaluate(test_images,test_labels,batch_size=batchSize)\n",
        "\n"
      ],
      "metadata": {
        "colab": {
          "base_uri": "https://localhost:8080/"
        },
        "id": "XktSnV6zqjoF",
        "outputId": "7555dad9-d36b-4764-ce76-3601aedce2b4"
      },
      "execution_count": null,
      "outputs": [
        {
          "output_type": "stream",
          "name": "stdout",
          "text": [
            "157/157 [==============================] - 0s 2ms/step - loss: 0.1138 - accuracy: 0.9666\n"
          ]
        },
        {
          "output_type": "execute_result",
          "data": {
            "text/plain": [
              "[0.11384798586368561, 0.9666000008583069]"
            ]
          },
          "metadata": {},
          "execution_count": 11
        }
      ]
    },
    {
      "cell_type": "code",
      "source": [
        "import numpy as np\n",
        "\n",
        "#prediction time\n",
        "pred_model= tf.keras.models.Sequential();\n",
        "pred_model.add(model)\n",
        "pred_model.add(layers.Softmax())\n",
        "\n",
        "\n",
        "cnt =4\n",
        "\n",
        "predictions=pred_model(test_images)\n",
        "pred0=predictions[cnt]\n",
        "label0=np.argmax(pred0) #agrmax finds max in the array passed .here aray is pred0\n",
        "\n",
        "# print(pred0)\n",
        "plt.imshow(test_images[cnt],cmap='gray')\n",
        "print(\"Prediction : \",label0)\n"
      ],
      "metadata": {
        "colab": {
          "base_uri": "https://localhost:8080/",
          "height": 283
        },
        "id": "ZJqEefGPqpE3",
        "outputId": "9a5b05af-f0c1-4fcd-a087-93c84759cc3b"
      },
      "execution_count": null,
      "outputs": [
        {
          "output_type": "stream",
          "name": "stdout",
          "text": [
            "Prediction :  4\n"
          ]
        },
        {
          "output_type": "display_data",
          "data": {
            "text/plain": [
              "<Figure size 432x288 with 1 Axes>"
            ],
            "image/png": "[encoded data removed]"
          },
          "metadata": {
            "needs_background": "light"
          }
        }
      ]
    }
  ]
}