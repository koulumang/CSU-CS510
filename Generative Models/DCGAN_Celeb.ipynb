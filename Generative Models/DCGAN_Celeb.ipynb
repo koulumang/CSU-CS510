{
  "cells": [
    {
      "attachments": {},
      "cell_type": "markdown",
      "metadata": {
        "id": "6K_GQkOcbp6Q"
      },
      "source": [
        "# DCGAN to generate face images\n"
      ]
    },
    {
      "attachments": {},
      "cell_type": "markdown",
      "metadata": {
        "id": "U8Ho9c6Nbp6Q"
      },
      "source": [
        "## Setup"
      ]
    },
    {
      "cell_type": "code",
      "execution_count": 1,
      "metadata": {
        "id": "KZPiLQdgbp6S"
      },
      "outputs": [],
      "source": [
        "import tensorflow as tf\n",
        "from tensorflow import keras\n",
        "from tensorflow.keras import layers\n",
        "import numpy as np\n",
        "import matplotlib.pyplot as plt\n",
        "import os\n",
        "import gdown\n",
        "from zipfile import ZipFile"
      ]
    },
    {
      "attachments": {},
      "cell_type": "markdown",
      "metadata": {
        "id": "uCT1WIvabp6S"
      },
      "source": [
        "## Prepare CelebA data\n",
        "\n",
        "We'll use face images from the CelebA dataset, resized to 64x64."
      ]
    },
    {
      "cell_type": "code",
      "execution_count": 2,
      "metadata": {
        "id": "pXBgtV3Zbp6T"
      },
      "outputs": [],
      "source": [
        "# os.makedirs(\"celeba_gan\")\n",
        "\n",
        "# url = \"https://drive.google.com/uc?id=1O7m1010EJjLE5QxLZiM9Fpjs7Oj6e684\"\n",
        "# output = \"celeba_gan/data.zip\"\n",
        "# gdown.download(url, output, quiet=True)\n",
        "\n",
        "# with ZipFile(\"celeba_gan/data.zip\", \"r\") as zipobj:\n",
        "#     zipobj.extractall(\"celeba_gan\")"
      ]
    },
    {
      "attachments": {},
      "cell_type": "markdown",
      "metadata": {
        "id": "2TwiADqGbp6T"
      },
      "source": [
        "Create a dataset from our folder, and rescale the images to the [0-1] range:"
      ]
    },
    {
      "cell_type": "code",
      "execution_count": 3,
      "metadata": {
        "colab": {
          "base_uri": "https://localhost:8080/"
        },
        "id": "7wDfbU6abp6T",
        "outputId": "e8f84d29-42e7-447c-e0a8-84ea9fd57325"
      },
      "outputs": [
        {
          "name": "stdout",
          "output_type": "stream",
          "text": [
            "Found 202599 files belonging to 1 classes.\n"
          ]
        },
        {
          "name": "stderr",
          "output_type": "stream",
          "text": [
            "2023-05-08 11:37:32.576909: I tensorflow/stream_executor/cuda/cuda_gpu_executor.cc:975] successful NUMA node read from SysFS had negative value (-1), but there must be at least one NUMA node, so returning NUMA node zero\n",
            "2023-05-08 11:37:32.674324: I tensorflow/stream_executor/cuda/cuda_gpu_executor.cc:975] successful NUMA node read from SysFS had negative value (-1), but there must be at least one NUMA node, so returning NUMA node zero\n",
            "2023-05-08 11:37:32.674575: I tensorflow/stream_executor/cuda/cuda_gpu_executor.cc:975] successful NUMA node read from SysFS had negative value (-1), but there must be at least one NUMA node, so returning NUMA node zero\n",
            "2023-05-08 11:37:32.675170: I tensorflow/core/platform/cpu_feature_guard.cc:193] This TensorFlow binary is optimized with oneAPI Deep Neural Network Library (oneDNN) to use the following CPU instructions in performance-critical operations:  AVX2 FMA\n",
            "To enable them in other operations, rebuild TensorFlow with the appropriate compiler flags.\n",
            "2023-05-08 11:37:32.675660: I tensorflow/stream_executor/cuda/cuda_gpu_executor.cc:975] successful NUMA node read from SysFS had negative value (-1), but there must be at least one NUMA node, so returning NUMA node zero\n",
            "2023-05-08 11:37:32.675802: I tensorflow/stream_executor/cuda/cuda_gpu_executor.cc:975] successful NUMA node read from SysFS had negative value (-1), but there must be at least one NUMA node, so returning NUMA node zero\n",
            "2023-05-08 11:37:32.675926: I tensorflow/stream_executor/cuda/cuda_gpu_executor.cc:975] successful NUMA node read from SysFS had negative value (-1), but there must be at least one NUMA node, so returning NUMA node zero\n",
            "2023-05-08 11:37:34.567809: I tensorflow/stream_executor/cuda/cuda_gpu_executor.cc:975] successful NUMA node read from SysFS had negative value (-1), but there must be at least one NUMA node, so returning NUMA node zero\n",
            "2023-05-08 11:37:34.567986: I tensorflow/stream_executor/cuda/cuda_gpu_executor.cc:975] successful NUMA node read from SysFS had negative value (-1), but there must be at least one NUMA node, so returning NUMA node zero\n",
            "2023-05-08 11:37:34.568143: I tensorflow/stream_executor/cuda/cuda_gpu_executor.cc:975] successful NUMA node read from SysFS had negative value (-1), but there must be at least one NUMA node, so returning NUMA node zero\n",
            "2023-05-08 11:37:34.568496: I tensorflow/core/common_runtime/gpu/gpu_device.cc:1532] Created device /job:localhost/replica:0/task:0/device:GPU:0 with 10527 MB memory:  -> device: 0, name: NVIDIA TITAN V, pci bus id: 0000:02:00.0, compute capability: 7.0\n"
          ]
        }
      ],
      "source": [
        "dataset = keras.utils.image_dataset_from_directory(\n",
        "    \"celeba_gan\", label_mode=None, image_size=(64, 64), batch_size=32\n",
        ")\n",
        "dataset = dataset.map(lambda x: x / 255.0)\n"
      ]
    },
    {
      "attachments": {},
      "cell_type": "markdown",
      "metadata": {
        "id": "7C_F2TMHbp6T"
      },
      "source": [
        "Let's display a sample image:"
      ]
    },
    {
      "cell_type": "code",
      "execution_count": 4,
      "metadata": {
        "colab": {
          "base_uri": "https://localhost:8080/",
          "height": 406
        },
        "id": "iigYg9Ambp6U",
        "outputId": "44c42df5-f166-4124-c155-7d8b7332828a"
      },
      "outputs": [
        {
          "data": {
            "image/png": "[encoded data removed]",
            "text/plain": [
              "<Figure size 432x288 with 1 Axes>"
            ]
          },
          "metadata": {
            "needs_background": "light"
          },
          "output_type": "display_data"
        }
      ],
      "source": [
        "\n",
        "for x in dataset:\n",
        "    plt.axis(\"off\")\n",
        "    plt.imshow((x.numpy() * 255).astype(\"int32\")[0])\n",
        "    break\n"
      ]
    },
    {
      "attachments": {},
      "cell_type": "markdown",
      "metadata": {
        "id": "8XBw_k6Xbp6U"
      },
      "source": [
        "## Create the discriminator\n",
        "\n",
        "It maps a 64x64 image to a binary classification score."
      ]
    },
    {
      "cell_type": "code",
      "execution_count": 5,
      "metadata": {
        "colab": {
          "base_uri": "https://localhost:8080/"
        },
        "id": "JNOsJklGbp6V",
        "outputId": "1f0dbe22-ece4-492c-bbb6-876d5c41814b"
      },
      "outputs": [
        {
          "name": "stdout",
          "output_type": "stream",
          "text": [
            "Model: \"discriminator\"\n",
            "_________________________________________________________________\n",
            " Layer (type)                Output Shape              Param #   \n",
            "=================================================================\n",
            " conv2d (Conv2D)             (None, 32, 32, 64)        3136      \n",
            "                                                                 \n",
            " leaky_re_lu (LeakyReLU)     (None, 32, 32, 64)        0         \n",
            "                                                                 \n",
            " conv2d_1 (Conv2D)           (None, 16, 16, 128)       131200    \n",
            "                                                                 \n",
            " leaky_re_lu_1 (LeakyReLU)   (None, 16, 16, 128)       0         \n",
            "                                                                 \n",
            " conv2d_2 (Conv2D)           (None, 8, 8, 128)         262272    \n",
            "                                                                 \n",
            " leaky_re_lu_2 (LeakyReLU)   (None, 8, 8, 128)         0         \n",
            "                                                                 \n",
            " flatten (Flatten)           (None, 8192)              0         \n",
            "                                                                 \n",
            " dropout (Dropout)           (None, 8192)              0         \n",
            "                                                                 \n",
            " dense (Dense)               (None, 1)                 8193      \n",
            "                                                                 \n",
            "=================================================================\n",
            "Total params: 404,801\n",
            "Trainable params: 404,801\n",
            "Non-trainable params: 0\n",
            "_________________________________________________________________\n"
          ]
        }
      ],
      "source": [
        "discriminator = keras.Sequential(\n",
        "    [\n",
        "        keras.Input(shape=(64, 64, 3)),\n",
        "        layers.Conv2D(64, kernel_size=4, strides=2, padding=\"same\"),\n",
        "        layers.LeakyReLU(alpha=0.2),\n",
        "        layers.Conv2D(128, kernel_size=4, strides=2, padding=\"same\"),\n",
        "        layers.LeakyReLU(alpha=0.2),\n",
        "        layers.Conv2D(128, kernel_size=4, strides=2, padding=\"same\"),\n",
        "        layers.LeakyReLU(alpha=0.2),\n",
        "        layers.Flatten(),\n",
        "        layers.Dropout(0.2),\n",
        "        layers.Dense(1, activation=\"sigmoid\"),\n",
        "    ],\n",
        "    name=\"discriminator\",\n",
        ")\n",
        "discriminator.summary()"
      ]
    },
    {
      "attachments": {},
      "cell_type": "markdown",
      "metadata": {
        "id": "8XW-qWn5bp6V"
      },
      "source": [
        "## Create the generator\n",
        "\n",
        "It mirrors the discriminator, replacing `Conv2D` layers with `Conv2DTranspose` layers."
      ]
    },
    {
      "cell_type": "code",
      "execution_count": 6,
      "metadata": {
        "colab": {
          "base_uri": "https://localhost:8080/"
        },
        "id": "Y_CgBl3pbp6W",
        "outputId": "d476d945-133d-4028-a044-9789e6173031"
      },
      "outputs": [
        {
          "name": "stdout",
          "output_type": "stream",
          "text": [
            "Model: \"generator\"\n",
            "_________________________________________________________________\n",
            " Layer (type)                Output Shape              Param #   \n",
            "=================================================================\n",
            " dense_1 (Dense)             (None, 8192)              1056768   \n",
            "                                                                 \n",
            " reshape (Reshape)           (None, 8, 8, 128)         0         \n",
            "                                                                 \n",
            " conv2d_transpose (Conv2DTra  (None, 16, 16, 128)      262272    \n",
            " nspose)                                                         \n",
            "                                                                 \n",
            " leaky_re_lu_3 (LeakyReLU)   (None, 16, 16, 128)       0         \n",
            "                                                                 \n",
            " conv2d_transpose_1 (Conv2DT  (None, 32, 32, 256)      524544    \n",
            " ranspose)                                                       \n",
            "                                                                 \n",
            " leaky_re_lu_4 (LeakyReLU)   (None, 32, 32, 256)       0         \n",
            "                                                                 \n",
            " conv2d_transpose_2 (Conv2DT  (None, 64, 64, 512)      2097664   \n",
            " ranspose)                                                       \n",
            "                                                                 \n",
            " leaky_re_lu_5 (LeakyReLU)   (None, 64, 64, 512)       0         \n",
            "                                                                 \n",
            " conv2d_3 (Conv2D)           (None, 64, 64, 3)         38403     \n",
            "                                                                 \n",
            "=================================================================\n",
            "Total params: 3,979,651\n",
            "Trainable params: 3,979,651\n",
            "Non-trainable params: 0\n",
            "_________________________________________________________________\n"
          ]
        }
      ],
      "source": [
        "latent_dim = 128\n",
        "\n",
        "generator = keras.Sequential(\n",
        "    [\n",
        "        keras.Input(shape=(latent_dim,)),\n",
        "        layers.Dense(8 * 8 * 128),\n",
        "        layers.Reshape((8, 8, 128)),\n",
        "        layers.Conv2DTranspose(128, kernel_size=4, strides=2, padding=\"same\"),\n",
        "        layers.LeakyReLU(alpha=0.2),\n",
        "        layers.Conv2DTranspose(256, kernel_size=4, strides=2, padding=\"same\"),\n",
        "        layers.LeakyReLU(alpha=0.2),\n",
        "        layers.Conv2DTranspose(512, kernel_size=4, strides=2, padding=\"same\"),\n",
        "        layers.LeakyReLU(alpha=0.2),\n",
        "        layers.Conv2D(3, kernel_size=5, padding=\"same\", activation=\"sigmoid\"),\n",
        "    ],\n",
        "    name=\"generator\",\n",
        ")\n",
        "generator.summary()"
      ]
    },
    {
      "attachments": {},
      "cell_type": "markdown",
      "metadata": {
        "id": "Pr7-i_Fkbp6W"
      },
      "source": [
        "## Override `train_step`"
      ]
    },
    {
      "cell_type": "code",
      "execution_count": 7,
      "metadata": {
        "id": "itE30iM6bp6W"
      },
      "outputs": [],
      "source": [
        "\n",
        "class GAN(keras.Model):\n",
        "    def __init__(self, discriminator, generator, latent_dim):\n",
        "        super().__init__()\n",
        "        self.discriminator = discriminator\n",
        "        self.generator = generator\n",
        "        self.latent_dim = latent_dim\n",
        "\n",
        "    def compile(self, d_optimizer, g_optimizer, loss_fn):\n",
        "        super().compile()\n",
        "        self.d_optimizer = d_optimizer\n",
        "        self.g_optimizer = g_optimizer\n",
        "        self.loss_fn = loss_fn\n",
        "        self.d_loss_metric = keras.metrics.Mean(name=\"d_loss\")\n",
        "        self.g_loss_metric = keras.metrics.Mean(name=\"g_loss\")\n",
        "\n",
        "    @property\n",
        "    def metrics(self):\n",
        "        return [self.d_loss_metric, self.g_loss_metric]\n",
        "\n",
        "    def train_step(self, real_images):\n",
        "        # Sample random points in the latent space\n",
        "        batch_size = tf.shape(real_images)[0]\n",
        "        random_latent_vectors = tf.random.normal(shape=(batch_size, self.latent_dim))\n",
        "\n",
        "        # Decode them to fake images\n",
        "        generated_images = self.generator(random_latent_vectors)\n",
        "\n",
        "        # Combine them with real images\n",
        "        combined_images = tf.concat([generated_images, real_images], axis=0)\n",
        "\n",
        "        # Assemble labels discriminating real from fake images\n",
        "        labels = tf.concat(\n",
        "            [tf.ones((batch_size, 1)), tf.zeros((batch_size, 1))], axis=0\n",
        "        )\n",
        "        # Add random noise to the labels - important trick!\n",
        "        labels += 0.05 * tf.random.uniform(tf.shape(labels))\n",
        "\n",
        "        # Train the discriminator\n",
        "        with tf.GradientTape() as tape:\n",
        "            predictions = self.discriminator(combined_images)\n",
        "            d_loss = self.loss_fn(labels, predictions)\n",
        "        grads = tape.gradient(d_loss, self.discriminator.trainable_weights)\n",
        "        self.d_optimizer.apply_gradients(\n",
        "            zip(grads, self.discriminator.trainable_weights)\n",
        "        )\n",
        "\n",
        "        # Sample random points in the latent space\n",
        "        random_latent_vectors = tf.random.normal(shape=(batch_size, self.latent_dim))\n",
        "\n",
        "        # Assemble labels that say \"all real images\"\n",
        "        misleading_labels = tf.zeros((batch_size, 1))\n",
        "\n",
        "        # Train the generator (note that we should *not* update the weights\n",
        "        # of the discriminator)!\n",
        "        with tf.GradientTape() as tape:\n",
        "            predictions = self.discriminator(self.generator(random_latent_vectors))\n",
        "            g_loss = self.loss_fn(misleading_labels, predictions)\n",
        "        grads = tape.gradient(g_loss, self.generator.trainable_weights)\n",
        "        self.g_optimizer.apply_gradients(zip(grads, self.generator.trainable_weights))\n",
        "\n",
        "        # Update metrics\n",
        "        self.d_loss_metric.update_state(d_loss)\n",
        "        self.g_loss_metric.update_state(g_loss)\n",
        "        return {\n",
        "            \"d_loss\": self.d_loss_metric.result(),\n",
        "            \"g_loss\": self.g_loss_metric.result(),\n",
        "        }\n"
      ]
    },
    {
      "attachments": {},
      "cell_type": "markdown",
      "metadata": {
        "id": "NtuMkXnGbp6W"
      },
      "source": [
        "## Create a callback that periodically saves generated images"
      ]
    },
    {
      "cell_type": "code",
      "execution_count": 8,
      "metadata": {
        "id": "1Vnlk8MQbp6X"
      },
      "outputs": [],
      "source": [
        "\n",
        "class GANMonitor(keras.callbacks.Callback):\n",
        "    def __init__(self, num_img=3, latent_dim=128):\n",
        "        self.num_img = num_img\n",
        "        self.latent_dim = latent_dim\n",
        "\n",
        "    def on_epoch_end(self, epoch, logs=None):\n",
        "        random_latent_vectors = tf.random.normal(shape=(self.num_img, self.latent_dim))\n",
        "        generated_images = self.model.generator(random_latent_vectors)\n",
        "        generated_images *= 255\n",
        "        generated_images.numpy()\n",
        "        for i in range(self.num_img):\n",
        "            img = keras.preprocessing.image.array_to_img(generated_images[i])\n",
        "            img.save(\"generated_img_%03d_%d.png\" % (epoch, i))\n"
      ]
    },
    {
      "attachments": {},
      "cell_type": "markdown",
      "metadata": {
        "id": "HBC1SopZbp6X"
      },
      "source": [
        "## Train the end-to-end model"
      ]
    },
    {
      "cell_type": "code",
      "execution_count": 9,
      "metadata": {
        "colab": {
          "base_uri": "https://localhost:8080/"
        },
        "id": "_T8O6iQFbp6X",
        "outputId": "ad52892f-566f-4708-af22-8c4c87e9b03a"
      },
      "outputs": [
        {
          "name": "stdout",
          "output_type": "stream",
          "text": [
            "Epoch 1/50\n"
          ]
        },
        {
          "name": "stderr",
          "output_type": "stream",
          "text": [
            "2023-05-08 11:37:37.897455: I tensorflow/stream_executor/cuda/cuda_dnn.cc:384] Loaded cuDNN version 8401\n",
            "2023-05-08 11:37:40.287687: I tensorflow/core/platform/default/subprocess.cc:304] Start cannot spawn child process: No such file or directory\n",
            "2023-05-08 11:37:40.289151: I tensorflow/core/platform/default/subprocess.cc:304] Start cannot spawn child process: No such file or directory\n",
            "2023-05-08 11:37:40.289174: W tensorflow/stream_executor/gpu/asm_compiler.cc:80] Couldn't get ptxas version string: INTERNAL: Couldn't invoke ptxas --version\n",
            "2023-05-08 11:37:40.291000: I tensorflow/core/platform/default/subprocess.cc:304] Start cannot spawn child process: No such file or directory\n",
            "2023-05-08 11:37:40.291108: W tensorflow/stream_executor/gpu/redzone_allocator.cc:314] INTERNAL: Failed to launch ptxas\n",
            "Relying on driver to perform ptx compilation. \n",
            "Modify $PATH to customize ptxas location.\n",
            "This message will be only logged once.\n"
          ]
        },
        {
          "name": "stdout",
          "output_type": "stream",
          "text": [
            "6332/6332 [==============================] - 602s 94ms/step - d_loss: 0.6051 - g_loss: 1.2607\n",
            "Epoch 2/50\n",
            "6332/6332 [==============================] - 597s 94ms/step - d_loss: 0.6411 - g_loss: 1.1283\n",
            "Epoch 3/50\n",
            "6332/6332 [==============================] - 597s 94ms/step - d_loss: 0.6490 - g_loss: 1.0590\n",
            "Epoch 4/50\n",
            "6332/6332 [==============================] - 597s 94ms/step - d_loss: 0.6455 - g_loss: 1.0886\n",
            "Epoch 5/50\n",
            "6332/6332 [==============================] - 597s 94ms/step - d_loss: 0.6183 - g_loss: 1.1659\n",
            "Epoch 6/50\n",
            "6332/6332 [==============================] - 597s 94ms/step - d_loss: 0.6418 - g_loss: 1.0373\n",
            "Epoch 7/50\n",
            "6332/6332 [==============================] - 597s 94ms/step - d_loss: 0.6536 - g_loss: 0.9931\n",
            "Epoch 8/50\n",
            "6332/6332 [==============================] - 596s 94ms/step - d_loss: 0.6635 - g_loss: 0.9514\n",
            "Epoch 9/50\n",
            "6332/6332 [==============================] - 597s 94ms/step - d_loss: 0.6675 - g_loss: 0.9409\n",
            "Epoch 10/50\n",
            "6332/6332 [==============================] - 596s 94ms/step - d_loss: 0.6633 - g_loss: 0.9250\n",
            "Epoch 11/50\n",
            "6332/6332 [==============================] - 596s 94ms/step - d_loss: 0.6682 - g_loss: 0.9314\n",
            "Epoch 12/50\n",
            "6332/6332 [==============================] - 596s 94ms/step - d_loss: 0.6576 - g_loss: 0.9449\n",
            "Epoch 13/50\n",
            "6332/6332 [==============================] - 596s 94ms/step - d_loss: 0.6509 - g_loss: 0.9618\n",
            "Epoch 14/50\n",
            "6332/6332 [==============================] - 596s 94ms/step - d_loss: 0.6512 - g_loss: 0.9605\n",
            "Epoch 15/50\n",
            "6332/6332 [==============================] - 597s 94ms/step - d_loss: 0.6501 - g_loss: 0.9509\n",
            "Epoch 16/50\n",
            "6332/6332 [==============================] - 597s 94ms/step - d_loss: 0.6481 - g_loss: 0.9631\n",
            "Epoch 17/50\n",
            "6332/6332 [==============================] - 597s 94ms/step - d_loss: 0.6533 - g_loss: 0.9609\n",
            "Epoch 18/50\n",
            "6332/6332 [==============================] - 597s 94ms/step - d_loss: 0.6559 - g_loss: 0.9521\n",
            "Epoch 19/50\n",
            "6332/6332 [==============================] - 597s 94ms/step - d_loss: 0.6518 - g_loss: 0.9553\n",
            "Epoch 20/50\n",
            "6332/6332 [==============================] - 597s 94ms/step - d_loss: 0.6503 - g_loss: 0.9443\n",
            "Epoch 21/50\n",
            "6332/6332 [==============================] - 597s 94ms/step - d_loss: 0.6443 - g_loss: 0.9548\n",
            "Epoch 22/50\n",
            "6332/6332 [==============================] - 596s 94ms/step - d_loss: 0.6548 - g_loss: 0.9482\n",
            "Epoch 23/50\n",
            "6332/6332 [==============================] - 597s 94ms/step - d_loss: 0.6469 - g_loss: 0.9521\n",
            "Epoch 24/50\n",
            "6332/6332 [==============================] - 597s 94ms/step - d_loss: 0.6488 - g_loss: 0.9461\n",
            "Epoch 25/50\n",
            "6332/6332 [==============================] - 597s 94ms/step - d_loss: 0.6526 - g_loss: 0.9484\n",
            "Epoch 26/50\n",
            "6332/6332 [==============================] - 597s 94ms/step - d_loss: 0.6467 - g_loss: 0.9493\n",
            "Epoch 27/50\n",
            "6332/6332 [==============================] - 597s 94ms/step - d_loss: 0.6438 - g_loss: 0.9624\n",
            "Epoch 28/50\n",
            "6332/6332 [==============================] - 597s 94ms/step - d_loss: 0.6409 - g_loss: 0.9641\n",
            "Epoch 29/50\n",
            "6332/6332 [==============================] - 597s 94ms/step - d_loss: 0.6380 - g_loss: 0.9679\n",
            "Epoch 30/50\n",
            "6332/6332 [==============================] - 597s 94ms/step - d_loss: 0.6347 - g_loss: 0.9752\n",
            "Epoch 31/50\n",
            "6332/6332 [==============================] - 597s 94ms/step - d_loss: 0.6323 - g_loss: 0.9763\n",
            "Epoch 32/50\n",
            "6332/6332 [==============================] - 597s 94ms/step - d_loss: 0.6293 - g_loss: 0.9814\n",
            "Epoch 33/50\n",
            "6332/6332 [==============================] - 597s 94ms/step - d_loss: 0.6293 - g_loss: 0.9842\n",
            "Epoch 34/50\n",
            "6332/6332 [==============================] - 597s 94ms/step - d_loss: 0.6286 - g_loss: 0.9894\n",
            "Epoch 35/50\n",
            "6332/6332 [==============================] - 597s 94ms/step - d_loss: 0.6270 - g_loss: 0.9824\n",
            "Epoch 36/50\n",
            "6332/6332 [==============================] - 597s 94ms/step - d_loss: 0.6270 - g_loss: 0.9852\n",
            "Epoch 37/50\n",
            "6332/6332 [==============================] - 597s 94ms/step - d_loss: 0.6231 - g_loss: 0.9976\n",
            "Epoch 38/50\n",
            "6332/6332 [==============================] - 597s 94ms/step - d_loss: 0.6207 - g_loss: 1.0007\n",
            "Epoch 39/50\n",
            "6332/6332 [==============================] - 597s 94ms/step - d_loss: 0.6174 - g_loss: 1.0087\n",
            "Epoch 40/50\n",
            "6332/6332 [==============================] - 597s 94ms/step - d_loss: 0.6114 - g_loss: 1.0233\n",
            "Epoch 41/50\n",
            "6332/6332 [==============================] - 597s 94ms/step - d_loss: 0.6108 - g_loss: 1.0239\n",
            "Epoch 42/50\n",
            "6332/6332 [==============================] - 597s 94ms/step - d_loss: 0.6077 - g_loss: 1.0336\n",
            "Epoch 43/50\n",
            "5089/6332 [=======================>......] - ETA: 1:57 - d_loss: 0.6039 - g_loss: 1.0492"
          ]
        }
      ],
      "source": [
        "epochs = 50  # In practice, use ~100 epochs\n",
        "\n",
        "gan = GAN(discriminator=discriminator, generator=generator, latent_dim=latent_dim)\n",
        "gan.compile(\n",
        "    d_optimizer=keras.optimizers.Adam(learning_rate=0.0001),\n",
        "    g_optimizer=keras.optimizers.Adam(learning_rate=0.0001),\n",
        "    loss_fn=keras.losses.BinaryCrossentropy(),\n",
        ")\n",
        "\n",
        "gan.fit(\n",
        "    dataset, epochs=epochs, callbacks=[GANMonitor(num_img=10, latent_dim=latent_dim)]\n",
        ")"
      ]
    }
  ],
  "metadata": {
    "accelerator": "GPU",
    "colab": {
      "provenance": [],
      "toc_visible": true
    },
    "kernelspec": {
      "display_name": "Python 3",
      "language": "python",
      "name": "python3"
    },
    "language_info": {
      "codemirror_mode": {
        "name": "ipython",
        "version": 3
      },
      "file_extension": ".py",
      "mimetype": "text/x-python",
      "name": "python",
      "nbconvert_exporter": "python",
      "pygments_lexer": "ipython3",
      "version": "3.9.13"
    }
  },
  "nbformat": 4,
  "nbformat_minor": 0
}
