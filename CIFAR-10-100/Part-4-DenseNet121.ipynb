{
  "cells": [
    {
      "cell_type": "code",
      "execution_count": null,
      "metadata": {
        "id": "21q4AdGUFolO"
      },
      "outputs": [],
      "source": [
        "import tensorflow as tf\n",
        "import matplotlib.pyplot as plt\n",
        "import numpy as np\n",
        "from numpy import random\n",
        "import pandas as pd\n",
        "from sklearn.metrics import confusion_matrix\n",
        "import seaborn as sb\n",
        "from tensorflow.keras.applications.resnet50 import ResNet50\n",
        "from tensorflow.keras.preprocessing import image\n",
        "from tensorflow.keras.applications.resnet50 import preprocess_input, decode_predictions\n",
        "from sklearn.model_selection import train_test_split\n",
        "\n",
        "classes = [ \"apple\", \"aquarium_fish\", \"baby\", \"bear\", \"beaver\", \"bed\", \"bee\", \"beetle\", \"bicycle\", \"bottle\", \"bowl\", \"boy\", \"bridge\",\n",
        "           \"bus\", \"butterfly\", \"camel\", \"can\", \"castle\", \"caterpillar\", \"cattle\", \"chair\",\"chimpanzee\",\"clock\", \"cloud\", \"cockroach\",\n",
        "           \"couch\", \"crab\", \"crocodile\", \"cup\", \"dinosaur\", \"dolphin\", \"elephant\", \"flatfish\", \"forest\", \"fox\", \"girl\", \"hamster\",\n",
        "           \"house\", \"kangaroo\", \"keyboard\", \"lamp\", \"lawn_mower\", \"leopard\", \"lion\", \"lizard\", \"lobster\", \"man\", \"maple_tree\",\n",
        "           \"motorcycle\", \"mountain\", \"mouse\", \"mushroom\", \"oak_tree\", \"orange\", \"orchid\", \"otter\", \"palm_tree\", \"pear\",\n",
        "           \"pickup_truck\", \"pine_tree\", \"plain\", \"plate\", \"poppy\", \"porcupine\", \"possum\", \"rabbit\", \"raccoon\", \"ray\",\n",
        "           \"road\", \"rocket\", \"rose\", \"sea\", \"seal\", \"shark\", \"shrew\", \"skunk\", \"skyscraper\", \"snail\", \"snake\",\n",
        "           \"spider\", \"squirrel\", \"streetcar\", \"sunflower\", \"sweet_pepper\", \"table\", \"tank\", \"telephone\",\n",
        "           \"television\", \"tiger\", \"tractor\", \"train\", \"trout\", \"tulip\", \"turtle\", \"wardrobe\", \"whale\",\n",
        "           \"willow_tree\", \"wolf\", \"woman\", \"worm\" ]"
      ]
    },
    {
      "cell_type": "code",
      "execution_count": null,
      "metadata": {},
      "outputs": [],
      "source": [
        "gpus = tf.config.list_physical_devices('GPU')\n",
        "print(gpus)\n",
        "if gpus:\n",
        "  # Restrict TensorFlow to only use the first GPU\n",
        "  try:\n",
        "    tf.config.set_visible_devices(gpus[0], 'GPU')\n",
        "    logical_gpus = tf.config.list_logical_devices('GPU')\n",
        "    print(len(gpus), \"Physical GPUs,\", len(logical_gpus), \"Logical GPU\")\n",
        "  except RuntimeError as e:\n",
        "    # Visible devices must be set before GPUs have been initialized\n",
        "    print(e)\n",
        "    \n",
        "gpus = tf.config.experimental.list_physical_devices('GPU')\n",
        "if gpus:\n",
        "     try:\n",
        "         for gpu in gpus:\n",
        "             tf.config.experimental.set_memory_growth(gpu, True)\n",
        "     except RuntimeError as e:\n",
        "         print(e)\n"
      ]
    },
    {
      "cell_type": "code",
      "execution_count": null,
      "metadata": {
        "colab": {
          "base_uri": "https://localhost:8080/"
        },
        "id": "jbtc6yJcFxWA",
        "outputId": "e4bf9d8b-5288-4c35-b5f3-064366d59cc1"
      },
      "outputs": [],
      "source": [
        "cifar= tf.keras.datasets.cifar100\n",
        "\n",
        "(train_images, train_labels), (test_images, test_labels) = cifar.load_data()\n",
        "train_images,val_images,train_labels,val_labels = train_test_split(train_images, train_labels, test_size = 0.2)\n",
        "\n",
        "train_labels = train_labels.reshape(-1,)\n",
        "val_labels = val_labels.reshape(-1,)\n",
        "test_labels = test_labels.reshape(-1,)\n",
        "\n",
        "\n",
        "for i in range(6):\n",
        "  plt.subplot(2,3,i+1)\n",
        "  plt.title(classes[train_labels[i]])\n",
        "  plt.imshow(train_images[i],cmap='gray')\n",
        "plt.show()\n",
        "\n",
        "print(\"Training\")\n",
        "print(train_images.shape)\n",
        "print(train_labels.shape)\n",
        "print(\"Validation\")\n",
        "print(val_images.shape)\n",
        "print(val_labels.shape)\n",
        "print(\"Test\")\n",
        "print(test_images.shape)\n",
        "print(test_labels.shape)\n",
        "\n"
      ]
    },
    {
      "attachments": {},
      "cell_type": "markdown",
      "metadata": {},
      "source": [
        "### Hyperparameters "
      ]
    },
    {
      "cell_type": "code",
      "execution_count": null,
      "metadata": {},
      "outputs": [],
      "source": [
        "epochs=20\n",
        "batchSize=32\n",
        "stride=1\n",
        "kernel_size=(3,3)\n",
        "no_of_filters=256\n",
        "pooling_function='avg'\n",
        "loss = tf.keras.losses.SparseCategoricalCrossentropy(from_logits=False)\n",
        "lr=0.001\n",
        "optim = tf.keras.optimizers.Adam(learning_rate=lr)\n",
        "metrics = ['accuracy']\n",
        "activation='relu'"
      ]
    },
    {
      "attachments": {},
      "cell_type": "markdown",
      "metadata": {
        "id": "WzkEQbGLnmTu"
      },
      "source": [
        " \n",
        " \n",
        "\n",
        "---\n",
        "\n",
        "\n",
        "  ### Pretrained Model\n",
        "\n",
        "\n",
        "\n",
        "\n",
        "\n"
      ]
    },
    {
      "cell_type": "code",
      "execution_count": null,
      "metadata": {
        "colab": {
          "base_uri": "https://localhost:8080/"
        },
        "id": "wExaWg-LHuVv",
        "outputId": "90a80e18-0500-4bae-857b-d43fa1c12632"
      },
      "outputs": [],
      "source": [
        "DenseNet121 = tf.keras.applications.DenseNet121(\n",
        "    include_top=False,\n",
        "    weights=\"imagenet\",\n",
        "    input_tensor=None,\n",
        "    input_shape=(224,224,3),\n",
        "    pooling=None,\n",
        "    classes=100,\n",
        "    classifier_activation=\"softmax\",\n",
        ")\n",
        "\n",
        "for layer in DenseNet121.layers:\n",
        "        layer.trainable=False \n",
        "        \n",
        "model=tf.keras.models.Sequential()\n",
        "model.add(tf.keras.layers.UpSampling2D(size=(7, 7),interpolation='bilinear'))  \n",
        "model.add(DenseNet121)\n",
        "# model.add(tf.keras.layers.Conv2D(no_of_filters,kernel_size,activation=activation))\n",
        "# model.add(tf.keras.layers.MaxPooling2D((2,2)))\n",
        "model.add(tf.keras.layers.GlobalAveragePooling2D())\n",
        "# model.add(tf.keras.layers.Dropout(.25))\n",
        "model.add(tf.keras.layers.Dense(no_of_filters, activation='relu'))\n",
        "# model.add(tf.keras.layers.BatchNormalization())\n",
        "model.add(tf.keras.layers.Dense(100, activation='softmax'))\n"
      ]
    },
    {
      "attachments": {},
      "cell_type": "markdown",
      "metadata": {},
      "source": [
        "#### Train here\n"
      ]
    },
    {
      "cell_type": "code",
      "execution_count": null,
      "metadata": {},
      "outputs": [],
      "source": [
        "model.compile(loss=loss,optimizer=optim,metrics=metrics)\n",
        "result=model.fit(train_images,train_labels,batch_size=batchSize,epochs=epochs,validation_data = (val_images, val_labels))\n"
      ]
    },
    {
      "cell_type": "code",
      "execution_count": null,
      "metadata": {},
      "outputs": [],
      "source": [
        "loss, accuracy = model.evaluate(test_images,test_labels,batch_size=batchSize)\n",
        "print('Accuracy : ', accuracy)"
      ]
    },
    {
      "attachments": {},
      "cell_type": "markdown",
      "metadata": {},
      "source": [
        "### Predicting "
      ]
    },
    {
      "cell_type": "code",
      "execution_count": null,
      "metadata": {},
      "outputs": [],
      "source": [
        "cnt =random.randint(100)\n",
        "predictions=model.predict([test_images[:200]])\n",
        "\n",
        "pred0=predictions[cnt]\n",
        "label0=np.argmax(pred0) #agrmax finds max in the array passed .here aray is pred0\n",
        "\n",
        "# print(pred0)\n",
        "plt.imshow(test_images[cnt],cmap='gray')\n",
        "print(label0)\n",
        "print(\"Prediction : \",classes[label0])\n",
        "print(\"Actual     : \",classes[test_labels[cnt]])\n"
      ]
    },
    {
      "cell_type": "code",
      "execution_count": null,
      "metadata": {
        "colab": {
          "base_uri": "https://localhost:8080/",
          "height": 283
        },
        "id": "7TxR_1NGUerN",
        "outputId": "be2a7a53-5b0f-4a5b-8b24-1a4c2334d364"
      },
      "outputs": [],
      "source": [
        "acc = result.history['accuracy']\n",
        "val_acc = result.history['val_accuracy']\n",
        "loss = result.history['loss']\n",
        "val_loss = result.history['val_loss']\n",
        "\n",
        "plt.figure(figsize=(20, 10))\n",
        "plt.subplot(1, 2, 1)\n",
        "plt.title(\"Training and Validation Accuracy\")\n",
        "plt.plot(acc,color = 'green',label = 'Training Acuracy')\n",
        "plt.plot(val_acc,color = 'red',label = 'Validation Accuracy')\n",
        "plt.legend(loc='lower right')\n",
        "plt.ylabel('accuracy')\n",
        "plt.xlabel('epoch')\n",
        "plt.subplot(1, 2, 2)\n",
        "plt.title('Training and Validation Loss')\n",
        "plt.plot(loss,color = 'blue',label = 'Training Loss')\n",
        "plt.plot(val_loss,color = 'purple',label = 'Validation Loss')\n",
        "plt.ylabel('loss')\n",
        "plt.xlabel('epoch')\n",
        "plt.legend(loc='upper right')\n",
        "plt.show()\n",
        "\n",
        "\n"
      ]
    },
    {
      "cell_type": "code",
      "execution_count": null,
      "metadata": {},
      "outputs": [],
      "source": [
        "y_pred = np.argmax(model.predict(test_images), axis=1)\n",
        "\n",
        "conf_matrix = pd.DataFrame(confusion_matrix(test_labels, y_pred), columns=range(100), index=range(100))\n",
        "plt.figure(figsize=(20,15))  \n",
        "sb.heatmap(conf_matrix, annot=True, fmt=\"d\",cmap=\"Blues\")"
      ]
    }
  ],
  "metadata": {
    "colab": {
      "provenance": []
    },
    "kernelspec": {
      "display_name": "Python 3",
      "language": "python",
      "name": "python3"
    },
    "language_info": {
      "codemirror_mode": {
        "name": "ipython",
        "version": 3
      },
      "file_extension": ".py",
      "mimetype": "text/x-python",
      "name": "python",
      "nbconvert_exporter": "python",
      "pygments_lexer": "ipython3",
      "version": "3.9.13"
    },
    "vscode": {
      "interpreter": {
        "hash": "f9f85f796d01129d0dd105a088854619f454435301f6ffec2fea96ecbd9be4ac"
      }
    }
  },
  "nbformat": 4,
  "nbformat_minor": 0
}
