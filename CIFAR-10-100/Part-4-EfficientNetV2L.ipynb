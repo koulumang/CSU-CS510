{
  "cells": [
    {
      "cell_type": "code",
      "execution_count": null,
      "metadata": {
        "id": "21q4AdGUFolO"
      },
      "outputs": [],
      "source": [
        "import tensorflow as tf\n",
        "import matplotlib.pyplot as plt\n",
        "import numpy as np\n",
        "from numpy import random\n",
        "import pandas as pd\n",
        "from sklearn.metrics import confusion_matrix\n",
        "import seaborn as sb\n",
        "from tensorflow.keras.applications.resnet50 import ResNet50\n",
        "from tensorflow.keras.preprocessing import image\n",
        "from tensorflow.keras.applications.resnet50 import preprocess_input, decode_predictions\n",
        "from sklearn.model_selection import train_test_split\n",
        "\n",
        "classes = [ \"apple\", \"aquarium_fish\", \"baby\", \"bear\", \"beaver\", \"bed\", \"bee\", \"beetle\", \"bicycle\", \"bottle\", \"bowl\", \"boy\", \"bridge\",\n",
        "           \"bus\", \"butterfly\", \"camel\", \"can\", \"castle\", \"caterpillar\", \"cattle\", \"chair\",\"chimpanzee\",\"clock\", \"cloud\", \"cockroach\",\n",
        "           \"couch\", \"crab\", \"crocodile\", \"cup\", \"dinosaur\", \"dolphin\", \"elephant\", \"flatfish\", \"forest\", \"fox\", \"girl\", \"hamster\",\n",
        "           \"house\", \"kangaroo\", \"keyboard\", \"lamp\", \"lawn_mower\", \"leopard\", \"lion\", \"lizard\", \"lobster\", \"man\", \"maple_tree\",\n",
        "           \"motorcycle\", \"mountain\", \"mouse\", \"mushroom\", \"oak_tree\", \"orange\", \"orchid\", \"otter\", \"palm_tree\", \"pear\",\n",
        "           \"pickup_truck\", \"pine_tree\", \"plain\", \"plate\", \"poppy\", \"porcupine\", \"possum\", \"rabbit\", \"raccoon\", \"ray\",\n",
        "           \"road\", \"rocket\", \"rose\", \"sea\", \"seal\", \"shark\", \"shrew\", \"skunk\", \"skyscraper\", \"snail\", \"snake\",\n",
        "           \"spider\", \"squirrel\", \"streetcar\", \"sunflower\", \"sweet_pepper\", \"table\", \"tank\", \"telephone\",\n",
        "           \"television\", \"tiger\", \"tractor\", \"train\", \"trout\", \"tulip\", \"turtle\", \"wardrobe\", \"whale\",\n",
        "           \"willow_tree\", \"wolf\", \"woman\", \"worm\" ]"
      ]
    },
    {
      "cell_type": "code",
      "execution_count": null,
      "metadata": {},
      "outputs": [],
      "source": [
        "gpus = tf.config.list_physical_devices('GPU')\n",
        "print(gpus)\n",
        "if gpus:\n",
        "  # Restrict TensorFlow to only use the first GPU\n",
        "  try:\n",
        "    tf.config.set_visible_devices(gpus[0], 'GPU')\n",
        "    logical_gpus = tf.config.list_logical_devices('GPU')\n",
        "    print(len(gpus), \"Physical GPUs,\", len(logical_gpus), \"Logical GPU\")\n",
        "  except RuntimeError as e:\n",
        "    # Visible devices must be set before GPUs have been initialized\n",
        "    print(e)\n",
        "    \n",
        "gpus = tf.config.experimental.list_physical_devices('GPU')\n",
        "if gpus:\n",
        "     try:\n",
        "         for gpu in gpus:\n",
        "             tf.config.experimental.set_memory_growth(gpu, True)\n",
        "     except RuntimeError as e:\n",
        "         print(e)\n"
      ]
    },
    {
      "cell_type": "code",
      "execution_count": null,
      "metadata": {
        "colab": {
          "base_uri": "https://localhost:8080/"
        },
        "id": "jbtc6yJcFxWA",
        "outputId": "e4bf9d8b-5288-4c35-b5f3-064366d59cc1"
      },
      "outputs": [],
      "source": [
        "cifar= tf.keras.datasets.cifar100\n",
        "\n",
        "(train_images, train_labels), (test_images, test_labels) = cifar.load_data()\n",
        "train_images,val_images,train_labels,val_labels = train_test_split(train_images, train_labels, test_size = 0.2)\n",
        "\n",
        "train_labels = train_labels.reshape(-1,)\n",
        "val_labels = val_labels.reshape(-1,)\n",
        "test_labels = test_labels.reshape(-1,)\n",
        "\n",
        "\n",
        "for i in range(6):\n",
        "  plt.subplot(2,3,i+1)\n",
        "  plt.title(classes[train_labels[i]])\n",
        "  plt.imshow(train_images[i],cmap='gray')\n",
        "plt.show()\n",
        "\n",
        "print(\"Training\")\n",
        "print(train_images.shape)\n",
        "print(train_labels.shape)\n",
        "print(\"Validation\")\n",
        "print(val_images.shape)\n",
        "print(val_labels.shape)\n",
        "print(\"Test\")\n",
        "print(test_images.shape)\n",
        "print(test_labels.shape)\n",
        "\n"
      ]
    },
    {
      "attachments": {},
      "cell_type": "markdown",
      "metadata": {},
      "source": [
        "### Hyperparameters "
      ]
    },
    {
      "cell_type": "code",
      "execution_count": null,
      "metadata": {},
      "outputs": [],
      "source": [
        "epochs=10\n",
        "batchSize=64\n",
        "stride=1\n",
        "kernel_size=(3,3)\n",
        "no_of_filters=64\n",
        "pooling_function='avg'\n",
        "loss = tf.keras.losses.SparseCategoricalCrossentropy(from_logits=False)\n",
        "lr=0.001\n",
        "optim = tf.keras.optimizers.Adam(learning_rate=lr)\n",
        "metrics = ['accuracy']\n",
        "activation='relu'"
      ]
    },
    {
      "attachments": {},
      "cell_type": "markdown",
      "metadata": {
        "id": "WzkEQbGLnmTu"
      },
      "source": [
        " \n",
        " \n",
        "\n",
        "---\n",
        "\n",
        "\n",
        "  ### Pretrained Model\n",
        "\n",
        "\n",
        "\n",
        "\n",
        "\n"
      ]
    },
    {
      "cell_type": "code",
      "execution_count": 5,
      "metadata": {
        "colab": {
          "base_uri": "https://localhost:8080/"
        },
        "id": "wExaWg-LHuVv",
        "outputId": "90a80e18-0500-4bae-857b-d43fa1c12632"
      },
      "outputs": [],
      "source": [
        "EfficientNetV2L = tf.keras.applications.EfficientNetV2L(\n",
        "    include_top=False,\n",
        "    weights=\"imagenet\",\n",
        "    input_tensor=None,\n",
        "    input_shape=(224,224,3),\n",
        "    pooling=None,\n",
        "    classes=100,\n",
        "    classifier_activation=\"softmax\",\n",
        "    include_preprocessing=True,\n",
        ")\n",
        "for layer in EfficientNetV2L.layers:\n",
        "        layer.trainable=False \n",
        "        \n",
        "model=tf.keras.models.Sequential()\n",
        "model.add(tf.keras.layers.UpSampling2D(size=(7, 7),interpolation='bilinear'))  \n",
        "model.add(EfficientNetV2L)\n",
        "model.add(tf.keras.layers.Conv2D(no_of_filters,kernel_size,activation=activation))\n",
        "model.add(tf.keras.layers.MaxPooling2D((2,2)))\n",
        "model.add(tf.keras.layers.GlobalAveragePooling2D())\n",
        "model.add(tf.keras.layers.Dropout(.25))\n",
        "model.add(tf.keras.layers.Dense(no_of_filters, activation='relu'))\n",
        "model.add(tf.keras.layers.BatchNormalization())\n",
        "model.add(tf.keras.layers.Dense(100, activation='softmax'))\n"
      ]
    },
    {
      "attachments": {},
      "cell_type": "markdown",
      "metadata": {},
      "source": [
        "#### Train here\n"
      ]
    },
    {
      "cell_type": "code",
      "execution_count": 6,
      "metadata": {},
      "outputs": [
        {
          "name": "stdout",
          "output_type": "stream",
          "text": [
            "Epoch 1/10\n"
          ]
        },
        {
          "name": "stderr",
          "output_type": "stream",
          "text": [
            "2023-04-18 16:36:47.706258: I tensorflow/stream_executor/cuda/cuda_dnn.cc:384] Loaded cuDNN version 8401\n",
            "2023-04-18 16:36:48.504743: I tensorflow/core/platform/default/subprocess.cc:304] Start cannot spawn child process: No such file or directory\n",
            "2023-04-18 16:36:48.505080: I tensorflow/core/platform/default/subprocess.cc:304] Start cannot spawn child process: No such file or directory\n",
            "2023-04-18 16:36:48.505102: W tensorflow/stream_executor/gpu/asm_compiler.cc:80] Couldn't get ptxas version string: INTERNAL: Couldn't invoke ptxas --version\n",
            "2023-04-18 16:36:48.512938: I tensorflow/core/platform/default/subprocess.cc:304] Start cannot spawn child process: No such file or directory\n",
            "2023-04-18 16:36:48.512983: W tensorflow/stream_executor/gpu/redzone_allocator.cc:314] INTERNAL: Failed to launch ptxas\n",
            "Relying on driver to perform ptx compilation. \n",
            "Modify $PATH to customize ptxas location.\n",
            "This message will be only logged once.\n"
          ]
        },
        {
          "name": "stdout",
          "output_type": "stream",
          "text": [
            "625/625 [==============================] - 542s 826ms/step - loss: 2.0356 - accuracy: 0.5429 - val_loss: 1.0877 - val_accuracy: 0.7030\n",
            "Epoch 2/10\n",
            "625/625 [==============================] - 505s 808ms/step - loss: 1.2784 - accuracy: 0.6592 - val_loss: 0.9717 - val_accuracy: 0.7279\n",
            "Epoch 3/10\n",
            "625/625 [==============================] - 505s 808ms/step - loss: 1.1317 - accuracy: 0.6903 - val_loss: 0.9300 - val_accuracy: 0.7376\n",
            "Epoch 4/10\n",
            "625/625 [==============================] - 505s 808ms/step - loss: 1.0554 - accuracy: 0.7055 - val_loss: 0.9046 - val_accuracy: 0.7444\n",
            "Epoch 5/10\n",
            "625/625 [==============================] - 506s 810ms/step - loss: 0.9936 - accuracy: 0.7154 - val_loss: 0.8935 - val_accuracy: 0.7452\n",
            "Epoch 6/10\n",
            "625/625 [==============================] - 506s 810ms/step - loss: 0.9489 - accuracy: 0.7286 - val_loss: 0.8832 - val_accuracy: 0.7473\n",
            "Epoch 7/10\n",
            "625/625 [==============================] - 506s 810ms/step - loss: 0.9110 - accuracy: 0.7377 - val_loss: 0.8727 - val_accuracy: 0.7540\n",
            "Epoch 8/10\n",
            "625/625 [==============================] - 506s 810ms/step - loss: 0.8728 - accuracy: 0.7472 - val_loss: 0.8592 - val_accuracy: 0.7517\n",
            "Epoch 9/10\n",
            "625/625 [==============================] - 506s 809ms/step - loss: 0.8432 - accuracy: 0.7525 - val_loss: 0.8728 - val_accuracy: 0.7535\n",
            "Epoch 10/10\n",
            "625/625 [==============================] - 506s 809ms/step - loss: 0.8098 - accuracy: 0.7621 - val_loss: 0.8596 - val_accuracy: 0.7603\n"
          ]
        }
      ],
      "source": [
        "model.compile(loss=loss,optimizer=optim,metrics=metrics)\n",
        "result=model.fit(train_images,train_labels,batch_size=batchSize,epochs=epochs,validation_data = (val_images, val_labels))\n"
      ]
    },
    {
      "cell_type": "code",
      "execution_count": 7,
      "metadata": {},
      "outputs": [
        {
          "name": "stdout",
          "output_type": "stream",
          "text": [
            "157/157 [==============================] - 100s 637ms/step - loss: 0.8619 - accuracy: 0.7629\n",
            "Accuracy :  0.7628999948501587\n"
          ]
        }
      ],
      "source": [
        "loss, accuracy = model.evaluate(test_images,test_labels,batch_size=batchSize)\n",
        "print('Accuracy : ', accuracy)"
      ]
    },
    {
      "attachments": {},
      "cell_type": "markdown",
      "metadata": {},
      "source": [
        "### Predicting "
      ]
    },
    {
      "cell_type": "code",
      "execution_count": 8,
      "metadata": {},
      "outputs": [
        {
          "name": "stdout",
          "output_type": "stream",
          "text": [
            "WARNING:tensorflow:Layers in a Sequential model should only have a single input tensor. Received: inputs=(<tf.Tensor 'IteratorGetNext:0' shape=(None, 32, 32, 3) dtype=uint8>,). Consider rewriting this model with the Functional API.\n",
            "7/7 [==============================] - 14s 840ms/step\n",
            "32\n",
            "Prediction :  flatfish\n",
            "Actual     :  flatfish\n"
          ]
        },
        {
          "data": {
            "image/png": "[encoded data removed]",
            "text/plain": [
              "<Figure size 432x288 with 1 Axes>"
            ]
          },
          "metadata": {
            "needs_background": "light"
          },
          "output_type": "display_data"
        }
      ],
      "source": [
        "cnt =random.randint(100)\n",
        "predictions=model.predict([test_images[:200]])\n",
        "\n",
        "pred0=predictions[cnt]\n",
        "label0=np.argmax(pred0) #agrmax finds max in the array passed .here aray is pred0\n",
        "\n",
        "# print(pred0)\n",
        "plt.imshow(test_images[cnt],cmap='gray')\n",
        "print(label0)\n",
        "print(\"Prediction : \",classes[label0])\n",
        "print(\"Actual     : \",classes[test_labels[cnt]])\n"
      ]
    },
    {
      "cell_type": "code",
      "execution_count": 9,
      "metadata": {
        "colab": {
          "base_uri": "https://localhost:8080/",
          "height": 283
        },
        "id": "7TxR_1NGUerN",
        "outputId": "be2a7a53-5b0f-4a5b-8b24-1a4c2334d364"
      },
      "outputs": [
        {
          "data": {
            "image/png": "[encoded data removed]",
            "text/plain": [
              "<Figure size 1440x720 with 2 Axes>"
            ]
          },
          "metadata": {
            "needs_background": "light"
          },
          "output_type": "display_data"
        }
      ],
      "source": [
        "acc = result.history['accuracy']\n",
        "val_acc = result.history['val_accuracy']\n",
        "loss = result.history['loss']\n",
        "val_loss = result.history['val_loss']\n",
        "\n",
        "plt.figure(figsize=(20, 10))\n",
        "plt.subplot(1, 2, 1)\n",
        "plt.title(\"Training and Validation Accuracy\")\n",
        "plt.plot(acc,color = 'green',label = 'Training Acuracy')\n",
        "plt.plot(val_acc,color = 'red',label = 'Validation Accuracy')\n",
        "plt.legend(loc='lower right')\n",
        "plt.ylabel('accuracy')\n",
        "plt.xlabel('epoch')\n",
        "plt.subplot(1, 2, 2)\n",
        "plt.title('Training and Validation Loss')\n",
        "plt.plot(loss,color = 'blue',label = 'Training Loss')\n",
        "plt.plot(val_loss,color = 'purple',label = 'Validation Loss')\n",
        "plt.ylabel('loss')\n",
        "plt.xlabel('epoch')\n",
        "plt.legend(loc='upper right')\n",
        "plt.show()\n",
        "\n",
        "\n"
      ]
    },
    {
      "cell_type": "code",
      "execution_count": 10,
      "metadata": {},
      "outputs": [],
      "source": [
        "# y_pred = np.argmax(model.predict(test_images), axis=1)\n",
        "\n",
        "# conf_matrix = pd.DataFrame(confusion_matrix(test_labels, y_pred), columns=range(100), index=range(100))\n",
        "# plt.figure(figsize=(20,15))  \n",
        "# sb.heatmap(conf_matrix, annot=True, fmt=\"d\",cmap=\"Blues\")"
      ]
    }
  ],
  "metadata": {
    "colab": {
      "provenance": []
    },
    "kernelspec": {
      "display_name": "Python 3",
      "language": "python",
      "name": "python3"
    },
    "language_info": {
      "codemirror_mode": {
        "name": "ipython",
        "version": 3
      },
      "file_extension": ".py",
      "mimetype": "text/x-python",
      "name": "python",
      "nbconvert_exporter": "python",
      "pygments_lexer": "ipython3",
      "version": "3.9.13"
    },
    "vscode": {
      "interpreter": {
        "hash": "f9f85f796d01129d0dd105a088854619f454435301f6ffec2fea96ecbd9be4ac"
      }
    }
  },
  "nbformat": 4,
  "nbformat_minor": 0
}
