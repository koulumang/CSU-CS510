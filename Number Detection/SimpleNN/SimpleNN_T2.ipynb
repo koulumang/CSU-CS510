{
 "cells": [
  {
   "cell_type": "code",
   "execution_count": 1,
   "metadata": {},
   "outputs": [
    {
     "name": "stderr",
     "output_type": "stream",
     "text": [
      "2023-03-30 09:39:54.598380: I tensorflow/core/util/util.cc:169] oneDNN custom operations are on. You may see slightly different numerical results due to floating-point round-off errors from different computation orders. To turn them off, set the environment variable `TF_ENABLE_ONEDNN_OPTS=0`.\n",
      "2023-03-30 09:39:55.065587: W tensorflow/stream_executor/platform/default/dso_loader.cc:64] Could not load dynamic library 'libcudart.so.11.0'; dlerror: libcudart.so.11.0: cannot open shared object file: No such file or directory; LD_LIBRARY_PATH: /usr/local/maven/3.6.3/lib\n",
      "2023-03-30 09:39:55.065598: I tensorflow/stream_executor/cuda/cudart_stub.cc:29] Ignore above cudart dlerror if you do not have a GPU set up on your machine.\n"
     ]
    }
   ],
   "source": [
    "import tensorflow as tf\n",
    "import matplotlib.pyplot as plt\n",
    "import numpy as np\n",
    "from numpy import random\n",
    "import pandas as pd\n",
    "from sklearn.metrics import confusion_matrix\n",
    "import seaborn as sb"
   ]
  },
  {
   "cell_type": "code",
   "execution_count": 2,
   "metadata": {},
   "outputs": [],
   "source": [
    "mnist= tf.keras.datasets.mnist\n",
    "(train_images,train_labels) , (test_images,test_labels)=mnist.load_data()"
   ]
  },
  {
   "cell_type": "code",
   "execution_count": 3,
   "metadata": {},
   "outputs": [
    {
     "name": "stdout",
     "output_type": "stream",
     "text": [
      "train_images.shape :  (60000, 56, 56)\n"
     ]
    }
   ],
   "source": [
    "temp=[]\n",
    "for i in range(len(train_images)):\n",
    "    (x,y) = (random.randint(0,28),random.randint(0,28))\n",
    "    temp_img= np.array([[ 0 for i in range(56)] for j in range(56)]) \n",
    "    temp_img[x:x+28 , y:y+28] += train_images[i]\n",
    "    temp.append(temp_img)\n",
    "    \n",
    "train_images=np.array(temp)\n",
    "print('train_images.shape : ',train_images.shape)\n",
    "train_images = train_images.reshape((60000,56,56,1))\n",
    "train_images = train_images/255"
   ]
  },
  {
   "cell_type": "code",
   "execution_count": 4,
   "metadata": {},
   "outputs": [
    {
     "name": "stdout",
     "output_type": "stream",
     "text": [
      "test_images.shape :  (10000, 56, 56)\n"
     ]
    }
   ],
   "source": [
    "temp=[]\n",
    "for i in range(len(test_images)):\n",
    "    (x,y) = (random.randint(0,28),random.randint(0,28))\n",
    "    temp_img= np.array([[ 0 for i in range(56)] for j in range(56)]) \n",
    "    temp_img[x:x+28 , y:y+28] += test_images[i]\n",
    "    temp.append(temp_img)\n",
    "    \n",
    "test_images=np.array(temp)\n",
    "print('test_images.shape : ',test_images.shape)\n",
    "test_images = test_images.reshape((10000,56,56,1))\n",
    "test_images = test_images/255"
   ]
  },
  {
   "cell_type": "code",
   "execution_count": 30,
   "metadata": {},
   "outputs": [
    {
     "name": "stdout",
     "output_type": "stream",
     "text": [
      "Model: \"sequential_22\"\n",
      "_________________________________________________________________\n",
      " Layer (type)                Output Shape              Param #   \n",
      "=================================================================\n",
      " flatten_1 (Flatten)         (None, 3136)              0         \n",
      "                                                                 \n",
      " dense_2 (Dense)             (None, 64)                200768    \n",
      "                                                                 \n",
      " dense_3 (Dense)             (None, 10)                650       \n",
      "                                                                 \n",
      "=================================================================\n",
      "Total params: 201,418\n",
      "Trainable params: 201,418\n",
      "Non-trainable params: 0\n",
      "_________________________________________________________________\n"
     ]
    }
   ],
   "source": [
    "model= tf.keras.Sequential()\n",
    "model.add(tf.keras.layers.Flatten(input_shape=(56,56,1)))\n",
    "model.add(tf.keras.layers.Dense(64,activation= 'relu'))\n",
    "model.add(tf.keras.layers.Dense(10))\n",
    "\n",
    "\n",
    "model.summary()"
   ]
  },
  {
   "cell_type": "code",
   "execution_count": 31,
   "metadata": {},
   "outputs": [
    {
     "name": "stdout",
     "output_type": "stream",
     "text": [
      "Epoch 1/10\n",
      "938/938 [==============================] - 1s 593us/step - loss: 1.5327 - accuracy: 0.4945\n",
      "Epoch 2/10\n",
      "938/938 [==============================] - 1s 582us/step - loss: 0.8094 - accuracy: 0.7552\n",
      "Epoch 3/10\n",
      "938/938 [==============================] - 1s 571us/step - loss: 0.6109 - accuracy: 0.8165\n",
      "Epoch 4/10\n",
      "938/938 [==============================] - 1s 578us/step - loss: 0.5113 - accuracy: 0.8474\n",
      "Epoch 5/10\n",
      "938/938 [==============================] - 1s 582us/step - loss: 0.4503 - accuracy: 0.8643\n",
      "Epoch 6/10\n",
      "938/938 [==============================] - 1s 592us/step - loss: 0.4074 - accuracy: 0.8780\n",
      "Epoch 7/10\n",
      "938/938 [==============================] - 1s 596us/step - loss: 0.3660 - accuracy: 0.8909\n",
      "Epoch 8/10\n",
      "938/938 [==============================] - 1s 623us/step - loss: 0.3397 - accuracy: 0.8984\n",
      "Epoch 9/10\n",
      "938/938 [==============================] - 1s 585us/step - loss: 0.3102 - accuracy: 0.9079\n",
      "Epoch 10/10\n",
      "938/938 [==============================] - 1s 585us/step - loss: 0.2867 - accuracy: 0.9155\n"
     ]
    },
    {
     "data": {
      "text/plain": [
       "<keras.callbacks.History at 0x7fd6c40e4340>"
      ]
     },
     "execution_count": 31,
     "metadata": {},
     "output_type": "execute_result"
    }
   ],
   "source": [
    "loss = tf.keras.losses.SparseCategoricalCrossentropy(from_logits=True)\n",
    "optim = tf.keras.optimizers.Adam(learning_rate=0.001)\n",
    "metrics = ['accuracy']\n",
    "epochs=10\n",
    "batchSize=64\n",
    "\n",
    "model.compile(loss=loss,optimizer=optim,metrics=metrics)\n",
    "model.fit(train_images,train_labels,batch_size=batchSize,epochs=epochs,shuffle=True)\n",
    "\n"
   ]
  },
  {
   "cell_type": "code",
   "execution_count": 33,
   "metadata": {},
   "outputs": [
    {
     "name": "stdout",
     "output_type": "stream",
     "text": [
      "Prediction :  6\n"
     ]
    },
    {
     "data": {
      "image/png": "[encoded data removed]",
      "text/plain": [
       "<Figure size 432x288 with 1 Axes>"
      ]
     },
     "metadata": {
      "needs_background": "light"
     },
     "output_type": "display_data"
    }
   ],
   "source": [
    "pred_model=tf.keras.models.Sequential()\n",
    "pred_model.add(model)\n",
    "pred_model.add(tf.keras.layers.Softmax())\n",
    "\n",
    "cnt =random.randint(100)\n",
    "\n",
    "predtions= pred_model(test_images)\n",
    "pred=predtions[cnt]\n",
    "label= np.argmax(pred)\n",
    "\n",
    "# print pred + Image\n",
    "plt.imshow(test_images[cnt],cmap='gray')\n",
    "print(\"Prediction : \",label)\n",
    "\n"
   ]
  },
  {
   "cell_type": "code",
   "execution_count": 34,
   "metadata": {},
   "outputs": [
    {
     "name": "stdout",
     "output_type": "stream",
     "text": [
      "313/313 [==============================] - 0s 408us/step\n"
     ]
    },
    {
     "data": {
      "text/plain": [
       "<AxesSubplot:>"
      ]
     },
     "execution_count": 34,
     "metadata": {},
     "output_type": "execute_result"
    },
    {
     "data": {
      "image/png": "[encoded data removed]",
      "text/plain": [
       "<Figure size 1080x720 with 2 Axes>"
      ]
     },
     "metadata": {
      "needs_background": "light"
     },
     "output_type": "display_data"
    }
   ],
   "source": [
    "y_pred = np.argmax(pred_model.predict(test_images), axis=1)\n",
    "labels = ['0', '1', '2', '3', '4', '5', '6', '7', '8', '9']\n",
    "\n",
    "conf_matrix = pd.DataFrame(confusion_matrix(test_labels, y_pred), columns=labels, index=labels)\n",
    "plt.figure(figsize=(15,10))  \n",
    "sb.heatmap(conf_matrix, annot=True, fmt=\"d\",cmap=\"Blues\")"
   ]
  }
 ],
 "metadata": {
  "kernelspec": {
   "display_name": "Python 3",
   "language": "python",
   "name": "python3"
  },
  "language_info": {
   "codemirror_mode": {
    "name": "ipython",
    "version": 3
   },
   "file_extension": ".py",
   "mimetype": "text/x-python",
   "name": "python",
   "nbconvert_exporter": "python",
   "pygments_lexer": "ipython3",
   "version": "3.9.13"
  },
  "orig_nbformat": 4
 },
 "nbformat": 4,
 "nbformat_minor": 2
}
