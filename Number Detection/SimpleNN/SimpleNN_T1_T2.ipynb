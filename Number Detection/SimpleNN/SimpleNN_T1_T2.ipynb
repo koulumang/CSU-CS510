{
  "cells": [
    {
      "cell_type": "code",
      "execution_count": 1,
      "metadata": {
        "colab": {
          "base_uri": "https://localhost:8080/"
        },
        "id": "BUbKKhkwqRya",
        "outputId": "70d58019-543e-4291-a4a1-06a2bb01a9d7"
      },
      "outputs": [
        {
          "name": "stderr",
          "output_type": "stream",
          "text": [
            "2023-04-01 12:32:48.617173: I tensorflow/core/util/util.cc:169] oneDNN custom operations are on. You may see slightly different numerical results due to floating-point round-off errors from different computation orders. To turn them off, set the environment variable `TF_ENABLE_ONEDNN_OPTS=0`.\n",
            "2023-04-01 12:32:48.619625: W tensorflow/stream_executor/platform/default/dso_loader.cc:64] Could not load dynamic library 'libcudart.so.11.0'; dlerror: libcudart.so.11.0: cannot open shared object file: No such file or directory; LD_LIBRARY_PATH: /usr/local/maven/3.6.3/lib\n",
            "2023-04-01 12:32:48.619633: I tensorflow/stream_executor/cuda/cudart_stub.cc:29] Ignore above cudart dlerror if you do not have a GPU set up on your machine.\n"
          ]
        },
        {
          "name": "stdout",
          "output_type": "stream",
          "text": [
            "(60000, 28, 28)\n",
            "(60000,)\n",
            "(10000, 28, 28)\n",
            "(10000,)\n"
          ]
        }
      ],
      "source": [
        "import tensorflow as tf\n",
        "from tensorflow.keras import layers\n",
        "import matplotlib.pyplot as plt\n",
        "from numpy import random\n",
        "import pandas as pd\n",
        "from sklearn.metrics import confusion_matrix\n",
        "import seaborn as sb\n",
        "\n",
        "mnist= tf.keras.datasets.mnist\n",
        "\n",
        "(train_images, train_labels), (test_images, test_labels) = mnist.load_data()\n",
        "train_images, test_images = train_images/255, test_images/255\n",
        "\n",
        "# for i in range(6):\n",
        "#   plt.subplot(2,3,i+1)\n",
        "#   plt.imshow(train_images[i],cmap='gray')\n",
        "# plt.show()\n",
        "\n",
        "print(train_images.shape)\n",
        "print(train_labels.shape)\n",
        "\n",
        "print(test_images.shape)\n",
        "print(test_labels.shape)"
      ]
    },
    {
      "cell_type": "code",
      "execution_count": 2,
      "metadata": {
        "colab": {
          "base_uri": "https://localhost:8080/"
        },
        "id": "XUG6V-SnqeQ6",
        "outputId": "0002ef5c-3c3f-491e-f03b-dc3f9690b017"
      },
      "outputs": [
        {
          "name": "stdout",
          "output_type": "stream",
          "text": [
            "Model: \"sequential\"\n",
            "_________________________________________________________________\n",
            " Layer (type)                Output Shape              Param #   \n",
            "=================================================================\n",
            " flatten (Flatten)           (None, 784)               0         \n",
            "                                                                 \n",
            " dense (Dense)               (None, 128)               100480    \n",
            "                                                                 \n",
            " dense_1 (Dense)             (None, 10)                1290      \n",
            "                                                                 \n",
            "=================================================================\n",
            "Total params: 101,770\n",
            "Trainable params: 101,770\n",
            "Non-trainable params: 0\n",
            "_________________________________________________________________\n"
          ]
        },
        {
          "name": "stderr",
          "output_type": "stream",
          "text": [
            "2023-04-01 12:32:52.880850: W tensorflow/stream_executor/platform/default/dso_loader.cc:64] Could not load dynamic library 'libcuda.so.1'; dlerror: libcuda.so.1: cannot open shared object file: No such file or directory; LD_LIBRARY_PATH: /usr/local/maven/3.6.3/lib\n",
            "2023-04-01 12:32:52.880865: W tensorflow/stream_executor/cuda/cuda_driver.cc:269] failed call to cuInit: UNKNOWN ERROR (303)\n",
            "2023-04-01 12:32:52.880877: I tensorflow/stream_executor/cuda/cuda_diagnostics.cc:156] kernel driver does not appear to be running on this host (dover): /proc/driver/nvidia/version does not exist\n",
            "2023-04-01 12:32:52.881022: I tensorflow/core/platform/cpu_feature_guard.cc:193] This TensorFlow binary is optimized with oneAPI Deep Neural Network Library (oneDNN) to use the following CPU instructions in performance-critical operations:  AVX2 AVX_VNNI FMA\n",
            "To enable them in other operations, rebuild TensorFlow with the appropriate compiler flags.\n"
          ]
        }
      ],
      "source": [
        "model=tf.keras.models.Sequential()\n",
        "\n",
        "model.add(layers.Flatten(input_shape=(28,28)))\n",
        "model.add(layers.Dense(128,activation='relu'))\n",
        "model.add(layers.Dense(10))\n",
        "\n",
        "model.summary()"
      ]
    },
    {
      "cell_type": "code",
      "execution_count": 3,
      "metadata": {
        "colab": {
          "base_uri": "https://localhost:8080/"
        },
        "id": "QJutsRtzqfLy",
        "outputId": "c21c2364-c627-4fbc-9ef0-c27caf74f933"
      },
      "outputs": [
        {
          "name": "stdout",
          "output_type": "stream",
          "text": [
            "Epoch 1/10\n",
            "938/938 [==============================] - 1s 671us/step - loss: 0.2951 - accuracy: 0.9180\n",
            "Epoch 2/10\n",
            "938/938 [==============================] - 1s 666us/step - loss: 0.1330 - accuracy: 0.9610\n",
            "Epoch 3/10\n",
            "938/938 [==============================] - 1s 641us/step - loss: 0.0932 - accuracy: 0.9723\n",
            "Epoch 4/10\n",
            "938/938 [==============================] - 1s 665us/step - loss: 0.0718 - accuracy: 0.9784\n",
            "Epoch 5/10\n",
            "938/938 [==============================] - 1s 675us/step - loss: 0.0560 - accuracy: 0.9833\n",
            "Epoch 6/10\n",
            "938/938 [==============================] - 1s 665us/step - loss: 0.0457 - accuracy: 0.9864\n",
            "Epoch 7/10\n",
            "938/938 [==============================] - 1s 651us/step - loss: 0.0370 - accuracy: 0.9889\n",
            "Epoch 8/10\n",
            "938/938 [==============================] - 1s 640us/step - loss: 0.0296 - accuracy: 0.9913\n",
            "Epoch 9/10\n",
            "938/938 [==============================] - 1s 665us/step - loss: 0.0248 - accuracy: 0.9928\n",
            "Epoch 10/10\n",
            "938/938 [==============================] - 1s 677us/step - loss: 0.0207 - accuracy: 0.9941\n"
          ]
        },
        {
          "data": {
            "text/plain": [
              "<keras.callbacks.History at 0x7f2be8107ac0>"
            ]
          },
          "execution_count": 3,
          "metadata": {},
          "output_type": "execute_result"
        }
      ],
      "source": [
        "from keras import optimizers\n",
        "loss = tf.keras.losses.SparseCategoricalCrossentropy(from_logits=True)\n",
        "optim = tf.keras.optimizers.Adam(learning_rate=0.001)\n",
        "metrics = ['accuracy']\n",
        "epochs=10\n",
        "batchSize=64\n",
        "\n",
        "model.compile(loss=loss,optimizer=optim,metrics=metrics)\n",
        "model.fit(train_images,train_labels,batch_size=batchSize,epochs=epochs,shuffle=True)"
      ]
    },
    {
      "cell_type": "code",
      "execution_count": 4,
      "metadata": {
        "colab": {
          "base_uri": "https://localhost:8080/"
        },
        "id": "XktSnV6zqjoF",
        "outputId": "7555dad9-d36b-4764-ce76-3601aedce2b4"
      },
      "outputs": [
        {
          "name": "stdout",
          "output_type": "stream",
          "text": [
            "157/157 [==============================] - 0s 453us/step - loss: 0.0746 - accuracy: 0.9775\n"
          ]
        },
        {
          "data": {
            "text/plain": [
              "[0.07456867396831512, 0.9775000214576721]"
            ]
          },
          "execution_count": 4,
          "metadata": {},
          "output_type": "execute_result"
        }
      ],
      "source": [
        "model.evaluate(test_images,test_labels,batch_size=batchSize)\n",
        "\n"
      ]
    },
    {
      "cell_type": "code",
      "execution_count": 5,
      "metadata": {
        "colab": {
          "base_uri": "https://localhost:8080/",
          "height": 283
        },
        "id": "ZJqEefGPqpE3",
        "outputId": "9a5b05af-f0c1-4fcd-a087-93c84759cc3b"
      },
      "outputs": [
        {
          "name": "stdout",
          "output_type": "stream",
          "text": [
            "Prediction :  1\n"
          ]
        },
        {
          "data": {
            "image/png": "[encoded data removed]",
            "text/plain": [
              "<Figure size 432x288 with 1 Axes>"
            ]
          },
          "metadata": {
            "needs_background": "light"
          },
          "output_type": "display_data"
        }
      ],
      "source": [
        "import numpy as np\n",
        "\n",
        "#prediction time\n",
        "pred_model= tf.keras.models.Sequential();\n",
        "pred_model.add(model)\n",
        "pred_model.add(layers.Softmax())\n",
        "\n",
        "\n",
        "cnt =random.randint(100)\n",
        "\n",
        "predictions=pred_model(test_images)\n",
        "pred0=predictions[cnt]\n",
        "label0=np.argmax(pred0) #agrmax finds max in the array passed .here aray is pred0\n",
        "\n",
        "# print(pred0)\n",
        "plt.imshow(test_images[cnt],cmap='gray')\n",
        "print(\"Prediction : \",label0)\n"
      ]
    },
    {
      "cell_type": "code",
      "execution_count": 6,
      "metadata": {},
      "outputs": [
        {
          "name": "stdout",
          "output_type": "stream",
          "text": [
            "313/313 [==============================] - 0s 263us/step\n"
          ]
        },
        {
          "data": {
            "text/plain": [
              "<AxesSubplot:>"
            ]
          },
          "execution_count": 6,
          "metadata": {},
          "output_type": "execute_result"
        },
        {
          "data": {
            "image/png": "[encoded data removed]",
            "text/plain": [
              "<Figure size 1080x720 with 2 Axes>"
            ]
          },
          "metadata": {
            "needs_background": "light"
          },
          "output_type": "display_data"
        }
      ],
      "source": [
        "y_pred = np.argmax(pred_model.predict(test_images), axis=1)\n",
        "labels = ['0', '1', '2', '3', '4', '5', '6', '7', '8', '9']\n",
        "\n",
        "conf_matrix = pd.DataFrame(confusion_matrix(test_labels, y_pred), columns=labels, index=labels)\n",
        "plt.figure(figsize=(15,10))  \n",
        "sb.heatmap(conf_matrix, annot=True, fmt=\"d\",cmap=\"Blues\")"
      ]
    }
  ],
  "metadata": {
    "colab": {
      "provenance": []
    },
    "kernelspec": {
      "display_name": "Python 3",
      "name": "python3"
    },
    "language_info": {
      "codemirror_mode": {
        "name": "ipython",
        "version": 3
      },
      "file_extension": ".py",
      "mimetype": "text/x-python",
      "name": "python",
      "nbconvert_exporter": "python",
      "pygments_lexer": "ipython3",
      "version": "3.9.13"
    }
  },
  "nbformat": 4,
  "nbformat_minor": 0
}
