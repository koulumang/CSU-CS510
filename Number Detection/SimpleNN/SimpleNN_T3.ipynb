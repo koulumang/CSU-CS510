{
 "cells": [
  {
   "cell_type": "code",
   "execution_count": 2,
   "metadata": {},
   "outputs": [
    {
     "name": "stderr",
     "output_type": "stream",
     "text": [
      "2023-03-30 10:20:25.793178: I tensorflow/core/util/util.cc:169] oneDNN custom operations are on. You may see slightly different numerical results due to floating-point round-off errors from different computation orders. To turn them off, set the environment variable `TF_ENABLE_ONEDNN_OPTS=0`.\n",
      "2023-03-30 10:20:25.796029: W tensorflow/stream_executor/platform/default/dso_loader.cc:64] Could not load dynamic library 'libcudart.so.11.0'; dlerror: libcudart.so.11.0: cannot open shared object file: No such file or directory; LD_LIBRARY_PATH: /usr/local/maven/3.6.3/lib\n",
      "2023-03-30 10:20:25.796039: I tensorflow/stream_executor/cuda/cudart_stub.cc:29] Ignore above cudart dlerror if you do not have a GPU set up on your machine.\n"
     ]
    }
   ],
   "source": [
    "import tensorflow as tf\n",
    "import matplotlib.pyplot as plt\n",
    "import numpy as np\n",
    "from numpy import random\n",
    "import pandas as pd\n",
    "from sklearn.metrics import confusion_matrix\n",
    "import seaborn as sb"
   ]
  },
  {
   "cell_type": "code",
   "execution_count": 3,
   "metadata": {},
   "outputs": [],
   "source": [
    "mnist= tf.keras.datasets.mnist\n",
    "(train_images,train_labels) , (test_images,test_labels)=mnist.load_data()"
   ]
  },
  {
   "cell_type": "code",
   "execution_count": 4,
   "metadata": {},
   "outputs": [
    {
     "name": "stdout",
     "output_type": "stream",
     "text": [
      "train_images.shape :  (60000, 56, 56)\n"
     ]
    }
   ],
   "source": [
    "temp=[]\n",
    "for i in range(len(train_images)):\n",
    "    (x,y) = (random.randint(0,28),random.randint(0,28))\n",
    "    temp_img= np.array([[ 0 for i in range(56)] for j in range(56)]) \n",
    "    temp_img[x:x+28 , y:y+28] += train_images[i]\n",
    "    temp.append(temp_img)\n",
    "    \n",
    "train_images=np.array(temp)\n",
    "print('train_images.shape : ',train_images.shape)\n",
    "train_images = train_images.reshape((60000,56,56,1))\n",
    "train_images = train_images/255"
   ]
  },
  {
   "cell_type": "code",
   "execution_count": 5,
   "metadata": {},
   "outputs": [
    {
     "name": "stdout",
     "output_type": "stream",
     "text": [
      "test_images.shape :  (10000, 56, 56)\n"
     ]
    }
   ],
   "source": [
    "temp=[]\n",
    "for i in range(len(test_images)):\n",
    "    (x,y) = (random.randint(0,28),random.randint(0,28))\n",
    "    temp_img= np.array([[ 0 for i in range(56)] for j in range(56)]) \n",
    "    temp_img[x:x+28 , y:y+28] += test_images[i]\n",
    "    temp.append(temp_img)\n",
    "    \n",
    "test_images=np.array(temp)\n",
    "print('test_images.shape : ',test_images.shape)\n",
    "test_images = test_images.reshape((10000,56,56,1))\n",
    "test_images = test_images/255"
   ]
  },
  {
   "cell_type": "code",
   "execution_count": 6,
   "metadata": {},
   "outputs": [
    {
     "name": "stdout",
     "output_type": "stream",
     "text": [
      "Model: \"sequential\"\n",
      "_________________________________________________________________\n",
      " Layer (type)                Output Shape              Param #   \n",
      "=================================================================\n",
      " flatten (Flatten)           (None, 3136)              0         \n",
      "                                                                 \n",
      " dense (Dense)               (None, 64)                200768    \n",
      "                                                                 \n",
      " dense_1 (Dense)             (None, 10)                650       \n",
      "                                                                 \n",
      "=================================================================\n",
      "Total params: 201,418\n",
      "Trainable params: 201,418\n",
      "Non-trainable params: 0\n",
      "_________________________________________________________________\n"
     ]
    },
    {
     "name": "stderr",
     "output_type": "stream",
     "text": [
      "2023-03-30 10:20:46.330033: W tensorflow/stream_executor/platform/default/dso_loader.cc:64] Could not load dynamic library 'libcuda.so.1'; dlerror: libcuda.so.1: cannot open shared object file: No such file or directory; LD_LIBRARY_PATH: /usr/local/maven/3.6.3/lib\n",
      "2023-03-30 10:20:46.330089: W tensorflow/stream_executor/cuda/cuda_driver.cc:269] failed call to cuInit: UNKNOWN ERROR (303)\n",
      "2023-03-30 10:20:46.330121: I tensorflow/stream_executor/cuda/cuda_diagnostics.cc:156] kernel driver does not appear to be running on this host (dover): /proc/driver/nvidia/version does not exist\n",
      "2023-03-30 10:20:46.330659: I tensorflow/core/platform/cpu_feature_guard.cc:193] This TensorFlow binary is optimized with oneAPI Deep Neural Network Library (oneDNN) to use the following CPU instructions in performance-critical operations:  AVX2 AVX_VNNI FMA\n",
      "To enable them in other operations, rebuild TensorFlow with the appropriate compiler flags.\n"
     ]
    }
   ],
   "source": [
    "model= tf.keras.Sequential()\n",
    "model.add(tf.keras.layers.Flatten(input_shape=(56,56,1)))\n",
    "model.add(tf.keras.layers.Dense(64,activation= 'relu'))\n",
    "model.add(tf.keras.layers.Dense(10))\n",
    "\n",
    "\n",
    "model.summary()"
   ]
  },
  {
   "cell_type": "code",
   "execution_count": 7,
   "metadata": {},
   "outputs": [
    {
     "name": "stdout",
     "output_type": "stream",
     "text": [
      "Epoch 1/10\n",
      "938/938 [==============================] - 2s 2ms/step - loss: 1.5601 - accuracy: 0.4811\n",
      "Epoch 2/10\n",
      "938/938 [==============================] - 1s 1ms/step - loss: 0.8369 - accuracy: 0.7426\n",
      "Epoch 3/10\n",
      "938/938 [==============================] - 1s 1ms/step - loss: 0.6346 - accuracy: 0.8050\n",
      "Epoch 4/10\n",
      "938/938 [==============================] - 1s 1ms/step - loss: 0.5286 - accuracy: 0.8394\n",
      "Epoch 5/10\n",
      "938/938 [==============================] - 1s 1ms/step - loss: 0.4628 - accuracy: 0.8601\n",
      "Epoch 6/10\n",
      "938/938 [==============================] - 1s 2ms/step - loss: 0.4130 - accuracy: 0.8741\n",
      "Epoch 7/10\n",
      "938/938 [==============================] - 2s 2ms/step - loss: 0.3756 - accuracy: 0.8867\n",
      "Epoch 8/10\n",
      "938/938 [==============================] - 2s 2ms/step - loss: 0.3429 - accuracy: 0.8971\n",
      "Epoch 9/10\n",
      "938/938 [==============================] - 1s 2ms/step - loss: 0.3179 - accuracy: 0.9046\n",
      "Epoch 10/10\n",
      "938/938 [==============================] - 1s 1ms/step - loss: 0.2957 - accuracy: 0.9111\n"
     ]
    },
    {
     "data": {
      "text/plain": [
       "<keras.callbacks.History at 0x7fb0b8fbdd00>"
      ]
     },
     "execution_count": 7,
     "metadata": {},
     "output_type": "execute_result"
    }
   ],
   "source": [
    "loss = tf.keras.losses.SparseCategoricalCrossentropy(from_logits=True)\n",
    "optim = tf.keras.optimizers.Adam(learning_rate=0.001)\n",
    "metrics = ['accuracy']\n",
    "epochs=10\n",
    "batchSize=64\n",
    "\n",
    "model.compile(loss=loss,optimizer=optim,metrics=metrics)\n",
    "model.fit(train_images,train_labels,batch_size=batchSize,epochs=epochs,shuffle=True)\n",
    "\n"
   ]
  },
  {
   "cell_type": "code",
   "execution_count": 8,
   "metadata": {},
   "outputs": [
    {
     "name": "stdout",
     "output_type": "stream",
     "text": [
      "157/157 [==============================] - 0s 1ms/step - loss: 0.5769 - accuracy: 0.8316\n"
     ]
    },
    {
     "data": {
      "text/plain": [
       "[0.5769486427307129, 0.83160001039505]"
      ]
     },
     "execution_count": 8,
     "metadata": {},
     "output_type": "execute_result"
    }
   ],
   "source": [
    "model.evaluate(test_images,test_labels,batchSize)"
   ]
  },
  {
   "cell_type": "code",
   "execution_count": 9,
   "metadata": {},
   "outputs": [
    {
     "name": "stdout",
     "output_type": "stream",
     "text": [
      "Prediction :  0\n"
     ]
    },
    {
     "data": {
      "image/png": "[encoded data removed]",
      "text/plain": [
       "<Figure size 432x288 with 1 Axes>"
      ]
     },
     "metadata": {
      "needs_background": "light"
     },
     "output_type": "display_data"
    }
   ],
   "source": [
    "pred_model=tf.keras.models.Sequential()\n",
    "pred_model.add(model)\n",
    "pred_model.add(tf.keras.layers.Softmax())\n",
    "\n",
    "cnt =random.randint(100)\n",
    "\n",
    "predtions= pred_model(test_images)\n",
    "pred=predtions[cnt]\n",
    "label= np.argmax(pred)\n",
    "\n",
    "# print pred + Image\n",
    "plt.imshow(test_images[cnt],cmap='gray')\n",
    "print(\"Prediction : \",label)\n",
    "\n"
   ]
  },
  {
   "cell_type": "code",
   "execution_count": 10,
   "metadata": {},
   "outputs": [
    {
     "name": "stdout",
     "output_type": "stream",
     "text": [
      "313/313 [==============================] - 0s 950us/step\n"
     ]
    },
    {
     "data": {
      "text/plain": [
       "<AxesSubplot:>"
      ]
     },
     "execution_count": 10,
     "metadata": {},
     "output_type": "execute_result"
    },
    {
     "data": {
      "image/png": "[encoded data removed]",
      "text/plain": [
       "<Figure size 1080x720 with 2 Axes>"
      ]
     },
     "metadata": {
      "needs_background": "light"
     },
     "output_type": "display_data"
    }
   ],
   "source": [
    "y_pred = np.argmax(pred_model.predict(test_images), axis=1)\n",
    "labels = ['0', '1', '2', '3', '4', '5', '6', '7', '8', '9']\n",
    "\n",
    "conf_matrix = pd.DataFrame(confusion_matrix(test_labels, y_pred), columns=labels, index=labels)\n",
    "plt.figure(figsize=(15,10))  \n",
    "sb.heatmap(conf_matrix, annot=True, fmt=\"d\",cmap=\"Blues\")"
   ]
  }
 ],
 "metadata": {
  "kernelspec": {
   "display_name": "Python 3",
   "language": "python",
   "name": "python3"
  },
  "language_info": {
   "codemirror_mode": {
    "name": "ipython",
    "version": 3
   },
   "file_extension": ".py",
   "mimetype": "text/x-python",
   "name": "python",
   "nbconvert_exporter": "python",
   "pygments_lexer": "ipython3",
   "version": "3.9.13"
  },
  "orig_nbformat": 4
 },
 "nbformat": 4,
 "nbformat_minor": 2
}
