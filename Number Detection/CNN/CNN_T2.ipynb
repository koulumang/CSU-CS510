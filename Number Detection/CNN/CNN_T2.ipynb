{
 "cells": [
  {
   "cell_type": "code",
   "execution_count": 43,
   "metadata": {},
   "outputs": [],
   "source": [
    "import tensorflow as tf\n",
    "import matplotlib.pyplot as plt\n",
    "import numpy as np\n",
    "from numpy import random\n",
    "import pandas as pd\n",
    "from sklearn.metrics import confusion_matrix\n",
    "import seaborn as sb"
   ]
  },
  {
   "cell_type": "code",
   "execution_count": 44,
   "metadata": {},
   "outputs": [],
   "source": [
    "mnist= tf.keras.datasets.mnist\n",
    "(train_images,train_labels) , (test_images,test_labels)=mnist.load_data()"
   ]
  },
  {
   "attachments": {},
   "cell_type": "markdown",
   "metadata": {},
   "source": [
    "##### Transform the train images and test images. (Place 28 * 28 randomly in 56 * 56 grid)\n"
   ]
  },
  {
   "cell_type": "code",
   "execution_count": 45,
   "metadata": {},
   "outputs": [
    {
     "name": "stdout",
     "output_type": "stream",
     "text": [
      "train_images.shape :  (60000, 56, 56)\n"
     ]
    }
   ],
   "source": [
    "temp=[]\n",
    "for i in range(len(train_images)):\n",
    "    (x,y) = (random.randint(0,28),random.randint(0,28))\n",
    "    temp_img= np.array([[ 0 for i in range(56)] for j in range(56)]) \n",
    "    temp_img[x:x+28 , y:y+28] += train_images[i]\n",
    "    temp.append(temp_img)\n",
    "    \n",
    "train_images=np.array(temp)\n",
    "print('train_images.shape : ',train_images.shape)\n",
    "train_images = train_images.reshape((60000,56,56,1))\n",
    "train_images = train_images/255"
   ]
  },
  {
   "cell_type": "code",
   "execution_count": 46,
   "metadata": {},
   "outputs": [
    {
     "name": "stdout",
     "output_type": "stream",
     "text": [
      "test_images.shape :  (10000, 56, 56)\n"
     ]
    }
   ],
   "source": [
    "temp=[]\n",
    "for i in range(len(test_images)):\n",
    "    (x,y) = (random.randint(0,28),random.randint(0,28))\n",
    "    temp_img= np.array([[ 0 for i in range(56)] for j in range(56)]) \n",
    "    temp_img[x:x+28 , y:y+28] += test_images[i]\n",
    "    temp.append(temp_img)\n",
    "    \n",
    "test_images=np.array(temp)\n",
    "print('test_images.shape : ',test_images.shape)\n",
    "test_images = test_images.reshape((10000,56,56,1))\n",
    "test_images = test_images/255"
   ]
  },
  {
   "cell_type": "code",
   "execution_count": null,
   "metadata": {},
   "outputs": [],
   "source": [
    "model= tf.keras.Sequential()\n",
    "model.add(tf.keras.layers.Conv2D(64,3,input_shape=(56,56,1), activation='relu'))\n",
    "model.add(tf.keras.layers.MaxPooling2D((2,2)))\n",
    "model.add(tf.keras.layers.Conv2D(128,3, activation='relu'))\n",
    "model.add(tf.keras.layers.MaxPooling2D((2,2)))\n",
    "\n",
    "model.add(tf.keras.layers.Flatten())\n",
    "model.add(tf.keras.layers.Dense(32,activation= 'relu'))\n",
    "model.add(tf.keras.layers.Dense(10))\n",
    "\n",
    "\n",
    "model.summary()"
   ]
  },
  {
   "cell_type": "code",
   "execution_count": 72,
   "metadata": {},
   "outputs": [
    {
     "name": "stdout",
     "output_type": "stream",
     "text": [
      "Epoch 1/5\n",
      "938/938 [==============================] - 36s 38ms/step - loss: 0.6435 - accuracy: 0.7859\n",
      "Epoch 2/5\n",
      "938/938 [==============================] - 36s 38ms/step - loss: 0.1629 - accuracy: 0.9513\n",
      "Epoch 3/5\n",
      "938/938 [==============================] - 36s 38ms/step - loss: 0.0982 - accuracy: 0.9693\n",
      "Epoch 4/5\n",
      "938/938 [==============================] - 36s 38ms/step - loss: 0.0638 - accuracy: 0.9797\n",
      "Epoch 5/5\n",
      "938/938 [==============================] - 36s 38ms/step - loss: 0.0444 - accuracy: 0.9855\n"
     ]
    },
    {
     "data": {
      "text/plain": [
       "<keras.callbacks.History at 0x7fce5027e370>"
      ]
     },
     "execution_count": 72,
     "metadata": {},
     "output_type": "execute_result"
    }
   ],
   "source": [
    "loss = tf.keras.losses.SparseCategoricalCrossentropy(from_logits=True)\n",
    "optim = tf.keras.optimizers.Adam(learning_rate=0.001)\n",
    "metrics = ['accuracy']\n",
    "epochs=5\n",
    "batchSize=64\n",
    "\n",
    "model.compile(loss=loss,optimizer=optim,metrics=metrics)\n",
    "model.fit(train_images,train_labels,batch_size=batchSize,epochs=epochs,shuffle=True)\n",
    "\n"
   ]
  },
  {
   "cell_type": "code",
   "execution_count": 74,
   "metadata": {},
   "outputs": [
    {
     "name": "stdout",
     "output_type": "stream",
     "text": [
      "157/157 [==============================] - 2s 15ms/step - loss: 0.1408 - accuracy: 0.9594\n"
     ]
    },
    {
     "data": {
      "text/plain": [
       "[0.14080668985843658, 0.9593999981880188]"
      ]
     },
     "execution_count": 74,
     "metadata": {},
     "output_type": "execute_result"
    }
   ],
   "source": [
    "model.evaluate(test_images,test_labels,batchSize)"
   ]
  }
 ],
 "metadata": {
  "kernelspec": {
   "display_name": "Python 3",
   "language": "python",
   "name": "python3"
  },
  "language_info": {
   "codemirror_mode": {
    "name": "ipython",
    "version": 3
   },
   "file_extension": ".py",
   "mimetype": "text/x-python",
   "name": "python",
   "nbconvert_exporter": "python",
   "pygments_lexer": "ipython3",
   "version": "3.9.13"
  },
  "orig_nbformat": 4
 },
 "nbformat": 4,
 "nbformat_minor": 2
}
