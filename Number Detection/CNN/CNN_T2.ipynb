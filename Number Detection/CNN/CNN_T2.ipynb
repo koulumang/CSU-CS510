{
 "cells": [
  {
   "cell_type": "code",
   "execution_count": 5,
   "metadata": {},
   "outputs": [],
   "source": [
    "import tensorflow as tf\n",
    "import matplotlib.pyplot as plt\n",
    "import numpy as np\n",
    "from numpy import random\n",
    "import pandas as pd\n",
    "from sklearn.metrics import confusion_matrix\n",
    "import seaborn as sb"
   ]
  },
  {
   "cell_type": "code",
   "execution_count": 6,
   "metadata": {},
   "outputs": [],
   "source": [
    "mnist= tf.keras.datasets.mnist\n",
    "(train_images,train_labels) , (test_images,test_labels)=mnist.load_data()"
   ]
  },
  {
   "attachments": {},
   "cell_type": "markdown",
   "metadata": {},
   "source": [
    "##### Transform the train images and test images. (Place 28 * 28 randomly in 56 * 56 grid)\n"
   ]
  },
  {
   "cell_type": "code",
   "execution_count": 7,
   "metadata": {},
   "outputs": [
    {
     "name": "stdout",
     "output_type": "stream",
     "text": [
      "train_images.shape :  (60000, 56, 56)\n"
     ]
    }
   ],
   "source": [
    "temp=[]\n",
    "for i in range(len(train_images)):\n",
    "    (x,y) = (random.randint(0,28),random.randint(0,28))\n",
    "    temp_img= np.array([[ 0 for i in range(56)] for j in range(56)]) \n",
    "    temp_img[x:x+28 , y:y+28] += train_images[i]\n",
    "    temp.append(temp_img)\n",
    "    \n",
    "train_images=np.array(temp)\n",
    "print('train_images.shape : ',train_images.shape)\n",
    "train_images = train_images.reshape((60000,56,56,1))\n",
    "train_images = train_images/255"
   ]
  },
  {
   "cell_type": "code",
   "execution_count": 8,
   "metadata": {},
   "outputs": [
    {
     "name": "stdout",
     "output_type": "stream",
     "text": [
      "test_images.shape :  (10000, 56, 56)\n"
     ]
    }
   ],
   "source": [
    "temp=[]\n",
    "for i in range(len(test_images)):\n",
    "    (x,y) = (random.randint(0,28),random.randint(0,28))\n",
    "    temp_img= np.array([[ 0 for i in range(56)] for j in range(56)]) \n",
    "    temp_img[x:x+28 , y:y+28] += test_images[i]\n",
    "    temp.append(temp_img)\n",
    "    \n",
    "test_images=np.array(temp)\n",
    "print('test_images.shape : ',test_images.shape)\n",
    "test_images = test_images.reshape((10000,56,56,1))\n",
    "test_images = test_images/255"
   ]
  },
  {
   "cell_type": "code",
   "execution_count": 37,
   "metadata": {},
   "outputs": [
    {
     "name": "stdout",
     "output_type": "stream",
     "text": [
      "Model: \"sequential_21\"\n",
      "_________________________________________________________________\n",
      " Layer (type)                Output Shape              Param #   \n",
      "=================================================================\n",
      " conv2d_6 (Conv2D)           (None, 54, 54, 128)       1280      \n",
      "                                                                 \n",
      " max_pooling2d_6 (MaxPooling  (None, 27, 27, 128)      0         \n",
      " 2D)                                                             \n",
      "                                                                 \n",
      " conv2d_7 (Conv2D)           (None, 25, 25, 64)        73792     \n",
      "                                                                 \n",
      " max_pooling2d_7 (MaxPooling  (None, 12, 12, 64)       0         \n",
      " 2D)                                                             \n",
      "                                                                 \n",
      " flatten_3 (Flatten)         (None, 9216)              0         \n",
      "                                                                 \n",
      " dense_6 (Dense)             (None, 32)                294944    \n",
      "                                                                 \n",
      " dense_7 (Dense)             (None, 10)                330       \n",
      "                                                                 \n",
      "=================================================================\n",
      "Total params: 370,346\n",
      "Trainable params: 370,346\n",
      "Non-trainable params: 0\n",
      "_________________________________________________________________\n"
     ]
    }
   ],
   "source": [
    "model= tf.keras.Sequential()\n",
    "model.add(tf.keras.layers.Conv2D(128,3,input_shape=(56,56,1), activation='relu'))\n",
    "model.add(tf.keras.layers.MaxPooling2D((2,2)))\n",
    "model.add(tf.keras.layers.Conv2D(64,3, activation='relu'))\n",
    "model.add(tf.keras.layers.MaxPooling2D((2,2)))\n",
    "\n",
    "model.add(tf.keras.layers.Flatten())\n",
    "model.add(tf.keras.layers.Dense(32,activation= 'relu'))\n",
    "model.add(tf.keras.layers.Dense(10))\n",
    "\n",
    "\n",
    "model.summary()"
   ]
  },
  {
   "cell_type": "code",
   "execution_count": 38,
   "metadata": {},
   "outputs": [
    {
     "name": "stdout",
     "output_type": "stream",
     "text": [
      "Epoch 1/20\n",
      "938/938 [==============================] - 47s 50ms/step - loss: 0.7335 - accuracy: 0.7523\n",
      "Epoch 2/20\n",
      "938/938 [==============================] - 47s 50ms/step - loss: 0.1917 - accuracy: 0.9433\n",
      "Epoch 3/20\n",
      "938/938 [==============================] - 47s 50ms/step - loss: 0.1160 - accuracy: 0.9651\n",
      "Epoch 4/20\n",
      "938/938 [==============================] - 47s 50ms/step - loss: 0.0772 - accuracy: 0.9760\n",
      "Epoch 5/20\n",
      "938/938 [==============================] - 47s 50ms/step - loss: 0.0536 - accuracy: 0.9823\n",
      "Epoch 6/20\n",
      "938/938 [==============================] - 47s 50ms/step - loss: 0.0419 - accuracy: 0.9861\n",
      "Epoch 7/20\n",
      "938/938 [==============================] - 47s 50ms/step - loss: 0.0291 - accuracy: 0.9904\n",
      "Epoch 8/20\n",
      "938/938 [==============================] - 47s 50ms/step - loss: 0.0270 - accuracy: 0.9908\n",
      "Epoch 9/20\n",
      "938/938 [==============================] - 47s 50ms/step - loss: 0.0230 - accuracy: 0.9922\n",
      "Epoch 10/20\n",
      "938/938 [==============================] - 47s 50ms/step - loss: 0.0185 - accuracy: 0.9941\n",
      "Epoch 11/20\n",
      "938/938 [==============================] - 47s 50ms/step - loss: 0.0172 - accuracy: 0.9943\n",
      "Epoch 12/20\n",
      "938/938 [==============================] - 47s 50ms/step - loss: 0.0162 - accuracy: 0.9947\n",
      "Epoch 13/20\n",
      "938/938 [==============================] - 47s 50ms/step - loss: 0.0143 - accuracy: 0.9953\n",
      "Epoch 14/20\n",
      "938/938 [==============================] - 47s 50ms/step - loss: 0.0113 - accuracy: 0.9962\n",
      "Epoch 15/20\n",
      "938/938 [==============================] - 47s 50ms/step - loss: 0.0118 - accuracy: 0.9962\n",
      "Epoch 16/20\n",
      "938/938 [==============================] - 47s 51ms/step - loss: 0.0099 - accuracy: 0.9968\n",
      "Epoch 17/20\n",
      "938/938 [==============================] - 47s 50ms/step - loss: 0.0097 - accuracy: 0.9966\n",
      "Epoch 18/20\n",
      "938/938 [==============================] - 47s 50ms/step - loss: 0.0129 - accuracy: 0.9957\n",
      "Epoch 19/20\n",
      "938/938 [==============================] - 47s 50ms/step - loss: 0.0103 - accuracy: 0.9967\n",
      "Epoch 20/20\n",
      "938/938 [==============================] - 47s 50ms/step - loss: 0.0082 - accuracy: 0.9975\n"
     ]
    },
    {
     "data": {
      "text/plain": [
       "<keras.callbacks.History at 0x7f88043b1e80>"
      ]
     },
     "execution_count": 38,
     "metadata": {},
     "output_type": "execute_result"
    }
   ],
   "source": [
    "loss = tf.keras.losses.SparseCategoricalCrossentropy(from_logits=True)\n",
    "optim = tf.keras.optimizers.Adam(learning_rate=0.001)\n",
    "metrics = ['accuracy']\n",
    "epochs=5\n",
    "batchSize=64\n",
    "\n",
    "model.compile(loss=loss,optimizer=optim,metrics=metrics)\n",
    "model.fit(train_images,train_labels,batch_size=batchSize,epochs=epochs,shuffle=True)\n",
    "\n"
   ]
  },
  {
   "cell_type": "code",
   "execution_count": 39,
   "metadata": {},
   "outputs": [
    {
     "name": "stdout",
     "output_type": "stream",
     "text": [
      "157/157 [==============================] - 3s 19ms/step - loss: 0.2006 - accuracy: 0.9640\n"
     ]
    },
    {
     "data": {
      "text/plain": [
       "[0.20060433447360992, 0.9639999866485596]"
      ]
     },
     "execution_count": 39,
     "metadata": {},
     "output_type": "execute_result"
    }
   ],
   "source": [
    "model.evaluate(test_images,test_labels,batchSize)"
   ]
  },
  {
   "cell_type": "code",
   "execution_count": 41,
   "metadata": {},
   "outputs": [
    {
     "name": "stdout",
     "output_type": "stream",
     "text": [
      "Prediction :  7\n"
     ]
    },
    {
     "data": {
      "image/png": "[encoded data removed]",
      "text/plain": [
       "<Figure size 432x288 with 1 Axes>"
      ]
     },
     "metadata": {
      "needs_background": "light"
     },
     "output_type": "display_data"
    }
   ],
   "source": [
    "pred_model=tf.keras.models.Sequential()\n",
    "pred_model.add(model)\n",
    "pred_model.add(tf.keras.layers.Softmax())\n",
    "\n",
    "cnt =random.randint(100)\n",
    "\n",
    "predtions= pred_model(test_images)\n",
    "pred=predtions[cnt]\n",
    "label= np.argmax(pred)\n",
    "\n",
    "# print pred + Image\n",
    "plt.imshow(test_images[cnt],cmap='gray')\n",
    "print(\"Prediction : \",label)\n",
    "\n"
   ]
  },
  {
   "cell_type": "code",
   "execution_count": 18,
   "metadata": {},
   "outputs": [
    {
     "name": "stdout",
     "output_type": "stream",
     "text": [
      "313/313 [==============================] - 1s 3ms/step\n"
     ]
    },
    {
     "data": {
      "text/plain": [
       "<AxesSubplot:>"
      ]
     },
     "execution_count": 18,
     "metadata": {},
     "output_type": "execute_result"
    },
    {
     "data": {
      "image/png": "[encoded data removed]",
      "text/plain": [
       "<Figure size 1080x720 with 2 Axes>"
      ]
     },
     "metadata": {
      "needs_background": "light"
     },
     "output_type": "display_data"
    }
   ],
   "source": [
    "y_pred = np.argmax(pred_model.predict(test_images), axis=1)\n",
    "labels = ['0', '1', '2', '3', '4', '5', '6', '7', '8', '9']\n",
    "\n",
    "conf_matrix = pd.DataFrame(confusion_matrix(test_labels, y_pred), columns=labels, index=labels)\n",
    "plt.figure(figsize=(15,10))  \n",
    "sb.heatmap(conf_matrix, annot=True, fmt=\"d\",cmap=\"Blues\")"
   ]
  }
 ],
 "metadata": {
  "kernelspec": {
   "display_name": "Python 3",
   "language": "python",
   "name": "python3"
  },
  "language_info": {
   "codemirror_mode": {
    "name": "ipython",
    "version": 3
   },
   "file_extension": ".py",
   "mimetype": "text/x-python",
   "name": "python",
   "nbconvert_exporter": "python",
   "pygments_lexer": "ipython3",
   "version": "3.9.13"
  },
  "orig_nbformat": 4
 },
 "nbformat": 4,
 "nbformat_minor": 2
}
